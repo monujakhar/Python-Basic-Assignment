{
  "nbformat": 4,
  "nbformat_minor": 0,
  "metadata": {
    "colab": {
      "provenance": []
    },
    "kernelspec": {
      "name": "python3",
      "display_name": "Python 3"
    },
    "language_info": {
      "name": "python"
    }
  },
  "cells": [
    {
      "cell_type": "markdown",
      "source": [
        "Q1. Create an assert statement that throws an AssertionError if the variable spam is a negative\n",
        "integer."
      ],
      "metadata": {
        "id": "HhykXQuKHeUX"
      }
    },
    {
      "cell_type": "code",
      "execution_count": 1,
      "metadata": {
        "colab": {
          "base_uri": "https://localhost:8080/",
          "height": 193
        },
        "id": "UpEI4QOZHXXn",
        "outputId": "71233fea-e915-46d1-fcec-47c84a6291e3"
      },
      "outputs": [
        {
          "output_type": "error",
          "ename": "AssertionError",
          "evalue": "ignored",
          "traceback": [
            "\u001b[0;31m---------------------------------------------------------------------------\u001b[0m",
            "\u001b[0;31mAssertionError\u001b[0m                            Traceback (most recent call last)",
            "\u001b[0;32m<ipython-input-1-d8f84495732b>\u001b[0m in \u001b[0;36m<cell line: 2>\u001b[0;34m()\u001b[0m\n\u001b[1;32m      1\u001b[0m \u001b[0mspam\u001b[0m \u001b[0;34m=\u001b[0m \u001b[0;34m-\u001b[0m\u001b[0;36m55\u001b[0m\u001b[0;34m\u001b[0m\u001b[0;34m\u001b[0m\u001b[0m\n\u001b[0;32m----> 2\u001b[0;31m \u001b[0;32massert\u001b[0m \u001b[0mspam\u001b[0m \u001b[0;34m>\u001b[0m \u001b[0;36m0\u001b[0m\u001b[0;34m,\u001b[0m \u001b[0;34m'The spam variable is is a negative integer.'\u001b[0m\u001b[0;34m\u001b[0m\u001b[0;34m\u001b[0m\u001b[0m\n\u001b[0m",
            "\u001b[0;31mAssertionError\u001b[0m: The spam variable is is a negative integer."
          ]
        }
      ],
      "source": [
        "spam = -55\n",
        "assert spam > 0, 'The spam variable is is a negative integer'"
      ]
    },
    {
      "cell_type": "markdown",
      "source": [
        "Q2. Write an assert statement that triggers an AssertionError if the variables eggs and bacon contain\n",
        "strings that are the same as each other, even if their cases are different (that is, &#39;hello&#39; and &#39;hello&#39; are\n",
        "considered the same, and &#39;goodbye&#39; and &#39;GOODbye&#39; are also considered the same)."
      ],
      "metadata": {
        "id": "fa24Vr1_HuC9"
      }
    },
    {
      "cell_type": "code",
      "source": [
        "eggs = 'hello'\n",
        "bacon = 'Hello'\n",
        "\n",
        "assert eggs.lower() != bacon.lower(), 'The eggs and bacon variables are the same!'\n",
        "assert eggs.upper() != bacon.upper(), 'The eggs and bacon variables are the same!'"
      ],
      "metadata": {
        "colab": {
          "base_uri": "https://localhost:8080/",
          "height": 228
        },
        "id": "dg60IJ2KHqaz",
        "outputId": "84dff4ef-9542-43f8-ce3c-23c999fe6e1b"
      },
      "execution_count": 2,
      "outputs": [
        {
          "output_type": "error",
          "ename": "AssertionError",
          "evalue": "ignored",
          "traceback": [
            "\u001b[0;31m---------------------------------------------------------------------------\u001b[0m",
            "\u001b[0;31mAssertionError\u001b[0m                            Traceback (most recent call last)",
            "\u001b[0;32m<ipython-input-2-53586d290ac7>\u001b[0m in \u001b[0;36m<cell line: 4>\u001b[0;34m()\u001b[0m\n\u001b[1;32m      2\u001b[0m \u001b[0mbacon\u001b[0m \u001b[0;34m=\u001b[0m \u001b[0;34m'Hello'\u001b[0m\u001b[0;34m\u001b[0m\u001b[0;34m\u001b[0m\u001b[0m\n\u001b[1;32m      3\u001b[0m \u001b[0;34m\u001b[0m\u001b[0m\n\u001b[0;32m----> 4\u001b[0;31m \u001b[0;32massert\u001b[0m \u001b[0meggs\u001b[0m\u001b[0;34m.\u001b[0m\u001b[0mlower\u001b[0m\u001b[0;34m(\u001b[0m\u001b[0;34m)\u001b[0m \u001b[0;34m!=\u001b[0m \u001b[0mbacon\u001b[0m\u001b[0;34m.\u001b[0m\u001b[0mlower\u001b[0m\u001b[0;34m(\u001b[0m\u001b[0;34m)\u001b[0m\u001b[0;34m,\u001b[0m \u001b[0;34m'The eggs and bacon variables are the same!'\u001b[0m\u001b[0;34m\u001b[0m\u001b[0;34m\u001b[0m\u001b[0m\n\u001b[0m\u001b[1;32m      5\u001b[0m \u001b[0;32massert\u001b[0m \u001b[0meggs\u001b[0m\u001b[0;34m.\u001b[0m\u001b[0mupper\u001b[0m\u001b[0;34m(\u001b[0m\u001b[0;34m)\u001b[0m \u001b[0;34m!=\u001b[0m \u001b[0mbacon\u001b[0m\u001b[0;34m.\u001b[0m\u001b[0mupper\u001b[0m\u001b[0;34m(\u001b[0m\u001b[0;34m)\u001b[0m\u001b[0;34m,\u001b[0m \u001b[0;34m'The eggs and bacon variables are the same!'\u001b[0m\u001b[0;34m\u001b[0m\u001b[0;34m\u001b[0m\u001b[0m\n",
            "\u001b[0;31mAssertionError\u001b[0m: The eggs and bacon variables are the same!"
          ]
        }
      ]
    },
    {
      "cell_type": "markdown",
      "source": [
        "Q3. Create an assert statement that throws an AssertionError every time."
      ],
      "metadata": {
        "id": "0b04x0qcH5Pr"
      }
    },
    {
      "cell_type": "code",
      "source": [
        "assert False, \"This assertion will always raise an AssertionError\""
      ],
      "metadata": {
        "colab": {
          "base_uri": "https://localhost:8080/",
          "height": 176
        },
        "id": "TjKJEHEJH3lz",
        "outputId": "7af0802e-9d9e-4c79-f77f-c9adf567bda7"
      },
      "execution_count": 3,
      "outputs": [
        {
          "output_type": "error",
          "ename": "AssertionError",
          "evalue": "ignored",
          "traceback": [
            "\u001b[0;31m---------------------------------------------------------------------------\u001b[0m",
            "\u001b[0;31mAssertionError\u001b[0m                            Traceback (most recent call last)",
            "\u001b[0;32m<ipython-input-3-478dbf5968bb>\u001b[0m in \u001b[0;36m<cell line: 1>\u001b[0;34m()\u001b[0m\n\u001b[0;32m----> 1\u001b[0;31m \u001b[0;32massert\u001b[0m \u001b[0;32mFalse\u001b[0m\u001b[0;34m,\u001b[0m \u001b[0;34m\"This assertion will always raise an AssertionError\"\u001b[0m\u001b[0;34m\u001b[0m\u001b[0;34m\u001b[0m\u001b[0m\n\u001b[0m",
            "\u001b[0;31mAssertionError\u001b[0m: This assertion will always raise an AssertionError"
          ]
        }
      ]
    },
    {
      "cell_type": "markdown",
      "source": [
        "Q4. What are the two lines that must be present in your software in order to call logging.debug()?"
      ],
      "metadata": {
        "id": "O1Xq6x9vIfBw"
      }
    },
    {
      "cell_type": "code",
      "source": [
        "import logging\n",
        "logging.basicConfig(level=logging.DEBUG)"
      ],
      "metadata": {
        "id": "hfLdtzzdIka4"
      },
      "execution_count": 5,
      "outputs": []
    },
    {
      "cell_type": "markdown",
      "source": [
        "Q5. What are the two lines that your program must have in order to have logging.debug() send a\n",
        "logging message to a file named programLog.txt?"
      ],
      "metadata": {
        "id": "8WjdUCijI4kg"
      }
    },
    {
      "cell_type": "code",
      "source": [
        "import logging\n",
        "logging.basicConfig(filename='programLog.txt', level=logging.DEBUG)"
      ],
      "metadata": {
        "id": "kz-4LAmBI-BP"
      },
      "execution_count": 7,
      "outputs": []
    },
    {
      "cell_type": "markdown",
      "source": [
        "Q6. What are the five levels of logging?"
      ],
      "metadata": {
        "id": "4vsOs7ORJQcM"
      }
    },
    {
      "cell_type": "markdown",
      "source": [
        "In Python's logging module, there are five standard levels of logging, listed in increasing order of severity:\n",
        "\n",
        "DEBUG: Detailed information, typically of interest only when diagnosing problems.\n",
        "\n",
        "INFO: Confirmation that things are working as expected.\n",
        "\n",
        "WARNING: An indication that something unexpected happened or an issue might arise soon. The software is still functioning as expected.\n",
        "\n",
        "ERROR: Indicates a more serious problem. The software is not able to perform some function.\n",
        "\n",
        "CRITICAL: A very serious error, indicating that the program may be unable to continue running.\n",
        "\n",
        "These levels provide a way to categorize and filter log messages based on their severity. When you set the logging level in your program, you control which messages get processed based on their severity level. Messages with a severity level equal to or higher than the configured level will be logged, while messages with a lower severity will be ignored."
      ],
      "metadata": {
        "id": "qHBhakH7JdSw"
      }
    },
    {
      "cell_type": "markdown",
      "source": [
        "Q7. What line of code would you add to your software to disable all logging messages?"
      ],
      "metadata": {
        "id": "X9B3ivv0JlFh"
      }
    },
    {
      "cell_type": "code",
      "source": [
        "import logging\n",
        "logging.disable(logging.CRITICAL)"
      ],
      "metadata": {
        "id": "PZQ5OLwCJWKx"
      },
      "execution_count": 8,
      "outputs": []
    },
    {
      "cell_type": "markdown",
      "source": [
        "Q8. Why is using logging messages better than using print() to display the same message?"
      ],
      "metadata": {
        "id": "OqsZjEs8JxRG"
      }
    },
    {
      "cell_type": "markdown",
      "source": [
        "The print() statement fails if your code does not have access to the console. To define basic logging needs, several lines of code are needed. Including additional logging information is not easy. The print() statement only displays messages on the console"
      ],
      "metadata": {
        "id": "_4X8MMIiMljy"
      }
    },
    {
      "cell_type": "markdown",
      "source": [
        "Q9. What are the differences between the Step Over, Step In, and Step Out buttons in the debugger?"
      ],
      "metadata": {
        "id": "9MUKrw5pMnNQ"
      }
    },
    {
      "cell_type": "markdown",
      "source": [
        "Step Over: Move to the next line of code, treating functions as a single step.\n",
        "Step In: Enter into the details of a function and execute its lines one by one.\n",
        "Step Out: Execute the remaining lines of the current function and stop when it returns, allowing you to return to the calling function.\n",
        "These debugging actions are essential for understanding the flow of your program and identifying issues during development."
      ],
      "metadata": {
        "id": "ogZfBgZDM2Pn"
      }
    },
    {
      "cell_type": "markdown",
      "source": [
        "Q10. After you click Continue, when will the debugger stop ?"
      ],
      "metadata": {
        "id": "DDr39ekWM6KC"
      }
    },
    {
      "cell_type": "markdown",
      "source": [
        "After clicking \"Continue\" in the debugger allows your program to run until it encounters a breakpoint, completes execution, raises an unhandled exception, or is manually interrupted. This feature is useful for running your program continuously until a specific condition or point of interest is reached."
      ],
      "metadata": {
        "id": "bE-3GMzKNA88"
      }
    },
    {
      "cell_type": "markdown",
      "source": [
        "Q11. What is the concept of a breakpoint?"
      ],
      "metadata": {
        "id": "MXy5QdENNO9f"
      }
    },
    {
      "cell_type": "markdown",
      "source": [
        "A breakpoint is a debugging feature that allows you to pause the execution of a program at a specific point or line in the code. When the program reaches a breakpoint during execution, it temporarily halts, giving you the opportunity to inspect the program's state, variables, and other relevant information. Breakpoints are a crucial tool for debugging and analyzing the behavior of your code."
      ],
      "metadata": {
        "id": "7C7_03NZNT_F"
      }
    }
  ]
}