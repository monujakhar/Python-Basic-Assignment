{
  "nbformat": 4,
  "nbformat_minor": 0,
  "metadata": {
    "colab": {
      "provenance": []
    },
    "kernelspec": {
      "name": "python3",
      "display_name": "Python 3"
    },
    "language_info": {
      "name": "python"
    }
  },
  "cells": [
    {
      "cell_type": "markdown",
      "source": [
        "Q1. What is the name of the feature responsible for generating Regex objects?"
      ],
      "metadata": {
        "id": "Gp9A2bD2NK4p"
      }
    },
    {
      "cell_type": "code",
      "source": [
        "import re\n",
        "re.compile(\"string\")\n",
        "#The re.compile() function returns Regex objects."
      ],
      "metadata": {
        "colab": {
          "base_uri": "https://localhost:8080/"
        },
        "id": "ljCQyeSCNS-J",
        "outputId": "57b9a67c-8c10-43b3-a2fc-f16512ba499e"
      },
      "execution_count": 1,
      "outputs": [
        {
          "output_type": "execute_result",
          "data": {
            "text/plain": [
              "re.compile(r'string', re.UNICODE)"
            ]
          },
          "metadata": {},
          "execution_count": 1
        }
      ]
    },
    {
      "cell_type": "markdown",
      "source": [
        "Q2. Why do raw strings often appear in Regex objects?"
      ],
      "metadata": {
        "id": "xkDOeQwsNWcS"
      }
    },
    {
      "cell_type": "markdown",
      "source": [
        "Raw strings are used so that backslashes do not have to be escaped."
      ],
      "metadata": {
        "id": "o3lcAezCNcmb"
      }
    },
    {
      "cell_type": "markdown",
      "source": [
        "Q3. What is the return value of the search() method ?"
      ],
      "metadata": {
        "id": "SzOMz9wENiem"
      }
    },
    {
      "cell_type": "markdown",
      "source": [
        "The search() method searches a string for a specified value, and returns the position of the match.\n",
        "\n",
        "The search value can be string or a regular expression. This method returns -1 if no match is found"
      ],
      "metadata": {
        "id": "y3EzU3StNm2b"
      }
    },
    {
      "cell_type": "markdown",
      "source": [
        "Q4. From a Match item, how do you get the actual strings that match the pattern?"
      ],
      "metadata": {
        "id": "R-C4qb7bNqXk"
      }
    },
    {
      "cell_type": "code",
      "source": [
        "phoneNumRegex = re.compile(r'\\d\\d\\d-\\d\\d\\d-\\d\\d\\d\\d')\n",
        "mo = phoneNumRegex.search('My number is 345-444-4542.')\n",
        "print('Phone number is: ' + mo.group())\n",
        "#Calling matchingObject.group() will return the string."
      ],
      "metadata": {
        "colab": {
          "base_uri": "https://localhost:8080/"
        },
        "id": "vzs_lfL4Nw90",
        "outputId": "46ecf5b4-cee1-4a3a-dddc-0c8c5b9621ca"
      },
      "execution_count": 2,
      "outputs": [
        {
          "output_type": "stream",
          "name": "stdout",
          "text": [
            "Phone number is: 345-444-4542\n"
          ]
        }
      ]
    },
    {
      "cell_type": "markdown",
      "source": [
        "Q5. In the regex which created from the r'(\\d\\d\\d)-(\\d\\d\\d-\\d\\d\\d\\d)', what does group zero cover?\n",
        "Group 2? Group 1?"
      ],
      "metadata": {
        "id": "w_3gGYrGOZnm"
      }
    },
    {
      "cell_type": "code",
      "source": [
        "phoneNumRegex = re.compile(r'(\\d\\d\\d)-(\\d\\d\\d-\\d\\d\\d\\d)')\n",
        "mo = phoneNumRegex.search('My number is 345-444-4542.')\n",
        "mo.group(1)"
      ],
      "metadata": {
        "colab": {
          "base_uri": "https://localhost:8080/",
          "height": 35
        },
        "id": "RrVQMfBaOc5R",
        "outputId": "15b8e592-0ff8-46f7-a5e0-10ecd1fc5cf0"
      },
      "execution_count": 4,
      "outputs": [
        {
          "output_type": "execute_result",
          "data": {
            "text/plain": [
              "'345'"
            ],
            "application/vnd.google.colaboratory.intrinsic+json": {
              "type": "string"
            }
          },
          "metadata": {},
          "execution_count": 4
        }
      ]
    },
    {
      "cell_type": "code",
      "source": [
        "mo.group(2)"
      ],
      "metadata": {
        "colab": {
          "base_uri": "https://localhost:8080/",
          "height": 35
        },
        "id": "qJ3-rAGOOq6j",
        "outputId": "8ce3f0cc-90e7-4f29-b13f-2b6456d8f3a5"
      },
      "execution_count": 5,
      "outputs": [
        {
          "output_type": "execute_result",
          "data": {
            "text/plain": [
              "'444-4542'"
            ],
            "application/vnd.google.colaboratory.intrinsic+json": {
              "type": "string"
            }
          },
          "metadata": {},
          "execution_count": 5
        }
      ]
    },
    {
      "cell_type": "code",
      "source": [
        "mo.group(0)"
      ],
      "metadata": {
        "colab": {
          "base_uri": "https://localhost:8080/",
          "height": 35
        },
        "id": "WW8dHc8lOvO4",
        "outputId": "85b6ce67-e71e-4ac6-a57a-0bf8e00ddf82"
      },
      "execution_count": 7,
      "outputs": [
        {
          "output_type": "execute_result",
          "data": {
            "text/plain": [
              "'345-444-4542'"
            ],
            "application/vnd.google.colaboratory.intrinsic+json": {
              "type": "string"
            }
          },
          "metadata": {},
          "execution_count": 7
        }
      ]
    },
    {
      "cell_type": "markdown",
      "source": [
        "Q6. In standard expression syntax, parentheses and intervals have distinct meanings. How can you tell a regex that you want it to fit real parentheses and periods?"
      ],
      "metadata": {
        "id": "cGIllyqFOkcb"
      }
    },
    {
      "cell_type": "markdown",
      "source": [
        "Periods and parentheses can be escaped with a backslash: ., (, and )."
      ],
      "metadata": {
        "id": "195ESZsIO8DX"
      }
    },
    {
      "cell_type": "markdown",
      "source": [
        "Q7.  The findall() method returns a string list or a list of string tuples. What causes it to return one of the two options?"
      ],
      "metadata": {
        "id": "5fQwemgVPAl2"
      }
    },
    {
      "cell_type": "markdown",
      "source": [
        " If the regex has no groups, a list of strings is returned. If the regex has groups, a list of tuples of strings is\n",
        "returned."
      ],
      "metadata": {
        "id": "YxhhGbsNPFFu"
      }
    },
    {
      "cell_type": "markdown",
      "source": [
        "Q8. In standard expressions, what does the | character mean?"
      ],
      "metadata": {
        "id": "Ul3s7Pv4PKqj"
      }
    },
    {
      "cell_type": "markdown",
      "source": [
        "The | character is called a pipe. You can use it anywhere you want to match one of many expressions.\n",
        "\n",
        "For example, the regular expression r'Cricket|Soccer Sport' will match either 'Cricket' or 'Soccer Sport'.\n",
        "\n",
        "When both Cricket and Soccer Sport occur in the searched string, the first occurrence of matching text will be returned as the Match object.\n",
        "\n",
        "The | character signifies matching “either, or” between two groups"
      ],
      "metadata": {
        "id": "QCAA3iOgPcMD"
      }
    },
    {
      "cell_type": "code",
      "source": [
        "SportRegex = re.compile (r'Cricket|Soccer Sport')\n",
        "s1 = SportRegex.search('Cricket and Soccer Sport')\n",
        "s1.group()"
      ],
      "metadata": {
        "colab": {
          "base_uri": "https://localhost:8080/",
          "height": 35
        },
        "id": "xTXt47ILPf7k",
        "outputId": "1a3f210a-0273-40e4-d1b3-6b671314e489"
      },
      "execution_count": 8,
      "outputs": [
        {
          "output_type": "execute_result",
          "data": {
            "text/plain": [
              "'Cricket'"
            ],
            "application/vnd.google.colaboratory.intrinsic+json": {
              "type": "string"
            }
          },
          "metadata": {},
          "execution_count": 8
        }
      ]
    },
    {
      "cell_type": "code",
      "source": [
        "s2 = SportRegex.search('Soccer Sport and Cricket')\n",
        "s2.group()"
      ],
      "metadata": {
        "colab": {
          "base_uri": "https://localhost:8080/",
          "height": 35
        },
        "id": "Eni-5dALPk1l",
        "outputId": "7416770e-046b-4375-e258-12df8df0f9e9"
      },
      "execution_count": 9,
      "outputs": [
        {
          "output_type": "execute_result",
          "data": {
            "text/plain": [
              "'Soccer Sport'"
            ],
            "application/vnd.google.colaboratory.intrinsic+json": {
              "type": "string"
            }
          },
          "metadata": {},
          "execution_count": 9
        }
      ]
    },
    {
      "cell_type": "markdown",
      "source": [
        "Q9. In regular expressions, what does the ? character stand for?"
      ],
      "metadata": {
        "id": "95jB5Q_nPoNJ"
      }
    },
    {
      "cell_type": "code",
      "source": [
        "batRegex = re.compile(r'Bat(wo)?man')\n",
        "mo1 = batRegex.search('The Adventures of Batman')\n",
        "mo1.group()"
      ],
      "metadata": {
        "colab": {
          "base_uri": "https://localhost:8080/",
          "height": 35
        },
        "id": "vcpiiSBaPxjf",
        "outputId": "7cc4284d-2920-415e-c1bb-d615f5ed905e"
      },
      "execution_count": 11,
      "outputs": [
        {
          "output_type": "execute_result",
          "data": {
            "text/plain": [
              "'Batman'"
            ],
            "application/vnd.google.colaboratory.intrinsic+json": {
              "type": "string"
            }
          },
          "metadata": {},
          "execution_count": 11
        }
      ]
    },
    {
      "cell_type": "code",
      "source": [
        "mo2 = batRegex.search('The Adventures of Batwoman')\n",
        "mo2.group()\n"
      ],
      "metadata": {
        "colab": {
          "base_uri": "https://localhost:8080/",
          "height": 35
        },
        "id": "pmyAcKo2P0Mx",
        "outputId": "7cb9c062-a24c-4375-8ab7-7e8889e29224"
      },
      "execution_count": 12,
      "outputs": [
        {
          "output_type": "execute_result",
          "data": {
            "text/plain": [
              "'Batwoman'"
            ],
            "application/vnd.google.colaboratory.intrinsic+json": {
              "type": "string"
            }
          },
          "metadata": {},
          "execution_count": 12
        }
      ]
    },
    {
      "cell_type": "markdown",
      "source": [
        "Q10. In regular expressions, what is the difference between the + and * characters?"
      ],
      "metadata": {
        "id": "8XUi_lsRP6T4"
      }
    },
    {
      "cell_type": "markdown",
      "source": [
        "The + matches one or more. The * matches zero or more."
      ],
      "metadata": {
        "id": "rzBN19x9P_z7"
      }
    },
    {
      "cell_type": "markdown",
      "source": [
        "Q11. What is the difference between {4} and {4,5} in regular expression?"
      ],
      "metadata": {
        "id": "DfGts8odQDHX"
      }
    },
    {
      "cell_type": "markdown",
      "source": [
        "The {3} matches exactly three instances of the preceding group.\n",
        "\n",
        "The {3,5} matches between three and five instances"
      ],
      "metadata": {
        "id": "cTCvdxT6QJlJ"
      }
    },
    {
      "cell_type": "markdown",
      "source": [
        "Q12. What do you mean by the \\d, \\w, and \\s shorthand character classes signify in regular expressions?"
      ],
      "metadata": {
        "id": "aLGjZp2DQMIh"
      }
    },
    {
      "cell_type": "markdown",
      "source": [
        "\\d, stands for single digit, Any numeric digit from 0 to 9\n",
        "\n",
        "\\w, stands for single word, Any letter, numeric digit, or the underscore character. (Think of this as matching “word” characters.) \n",
        "\n",
        "\\s stands for single space character, Any space, tab, or newline character. (Think of this as matching “space” characters.)"
      ],
      "metadata": {
        "id": "JgbFscspQPrr"
      }
    },
    {
      "cell_type": "markdown",
      "source": [
        "Q13. What do means by \\D, \\W, and \\S shorthand character classes signify in regular expressions?"
      ],
      "metadata": {
        "id": "8TBH-adTQTDD"
      }
    },
    {
      "cell_type": "markdown",
      "source": [
        " \\D - > Any character that is not a numeric digit from 0 to 9.\n",
        "\n",
        "\\W - > Any character that is not a letter, numeric digit, or the underscore character.\n",
        "\n",
        "\\S - > Any character that is not a space, tab, or newline."
      ],
      "metadata": {
        "id": "4Ji0B1esQmf2"
      }
    },
    {
      "cell_type": "markdown",
      "source": [
        "Q14. What is the difference between .*? and .* ?"
      ],
      "metadata": {
        "id": "xdoj-2lDQzB0"
      }
    },
    {
      "cell_type": "markdown",
      "source": [
        ".* - The dot-star uses greedy mode: It will always try to match as much text as possible.\n",
        "\n",
        ".*? - To match any and all text in a non-greedy fashion, use the dot, star, and question mark (.?). Like with braces, the question mark tells Python to match in a non-greedy way."
      ],
      "metadata": {
        "id": "TzXK5JlxWZur"
      }
    },
    {
      "cell_type": "markdown",
      "source": [
        "Q15. What is the syntax for matching both numbers and lowercase letters with a character class?"
      ],
      "metadata": {
        "id": "eIq_XF-NXJHY"
      }
    },
    {
      "cell_type": "markdown",
      "source": [
        "To match both numbers and lowercase letters using a character class in regular expressions, you can use the following syntax: [0-9a-z]\n",
        "\n",
        "This character class '[0-9a-z]' matches any single character that is either a digit from 0 to 9 or a lowercase letter from a to z."
      ],
      "metadata": {
        "id": "DvCxm1GoYPhU"
      }
    },
    {
      "cell_type": "code",
      "source": [
        "import re\n",
        "text = \"abc123XYZ\"\n",
        "matches = re.findall(\"[0-9a-z]\", text)\n",
        "print(matches)"
      ],
      "metadata": {
        "colab": {
          "base_uri": "https://localhost:8080/"
        },
        "id": "kQdnFs8iZLG7",
        "outputId": "88ee4383-0b83-4abe-d246-6f788a071a5b"
      },
      "execution_count": 21,
      "outputs": [
        {
          "output_type": "stream",
          "name": "stdout",
          "text": [
            "['a', 'b', 'c', '1', '2', '3']\n"
          ]
        }
      ]
    },
    {
      "cell_type": "markdown",
      "source": [
        "Q16. What is the procedure for making a normal expression in regax case insensitive?"
      ],
      "metadata": {
        "id": "lxt9DyrpZr6p"
      }
    },
    {
      "cell_type": "markdown",
      "source": [
        "To make a regular expression case insensitive, you can use the 're.IGNORECASE' flag or the 're.I' abbreviation in Pythons 're' module. These options allow the regular expression pattern to match both uppercase and lowercase characters interchangeably."
      ],
      "metadata": {
        "id": "OpWozD4VavQH"
      }
    },
    {
      "cell_type": "code",
      "source": [
        "import re\n",
        "text = \"Hello World\"\n",
        "pattern = \"hello\"\n",
        "matches = re.findall(pattern, text, re.IGNORECASE)\n",
        "print(matches)"
      ],
      "metadata": {
        "colab": {
          "base_uri": "https://localhost:8080/"
        },
        "id": "BNML_vnlcEaJ",
        "outputId": "184222cf-dba1-4ab1-82f9-cd15278431dc"
      },
      "execution_count": 22,
      "outputs": [
        {
          "output_type": "stream",
          "name": "stdout",
          "text": [
            "['Hello']\n"
          ]
        }
      ]
    },
    {
      "cell_type": "markdown",
      "source": [
        "Q17. What does the . character normally match? What does it match if re.DOTALL is passed as 2nd\n",
        "argument in re.compile()?"
      ],
      "metadata": {
        "id": "2-nv_K5ocvWt"
      }
    },
    {
      "cell_type": "markdown",
      "source": [
        "The . character normally matches any character except the newline character.\n",
        "\n",
        "If re.DOTALL is passed as the second argument to re.compile(), then the dot will also match newline characters."
      ],
      "metadata": {
        "id": "TOz-i-zHeGP7"
      }
    },
    {
      "cell_type": "markdown",
      "source": [
        "Q18. If numRegex = re.compile(r'\\d+'), what will numRegex.sub('X', '11 drummers, 10 pipers, five rings, 4 hen') return?"
      ],
      "metadata": {
        "id": "3PMlAutEeKpy"
      }
    },
    {
      "cell_type": "code",
      "source": [
        "numRegex = re.compile(r'\\d+')\n",
        "mo = numRegex.sub('X', '11 drummers, 10 pipers, five rings, 4 hen')\n",
        "mo"
      ],
      "metadata": {
        "colab": {
          "base_uri": "https://localhost:8080/",
          "height": 35
        },
        "id": "Kf2Gf8zGe6JE",
        "outputId": "f21d5d20-24f9-4c2a-d43d-b7f9575419c1"
      },
      "execution_count": 23,
      "outputs": [
        {
          "output_type": "execute_result",
          "data": {
            "text/plain": [
              "'X drummers, X pipers, five rings, X hen'"
            ],
            "application/vnd.google.colaboratory.intrinsic+json": {
              "type": "string"
            }
          },
          "metadata": {},
          "execution_count": 23
        }
      ]
    },
    {
      "cell_type": "markdown",
      "source": [
        "Q19. What does passing re.VERBOSE as the 2nd argument to re.compile() allow to do?\n"
      ],
      "metadata": {
        "id": "Xro9gDUHk0TS"
      }
    },
    {
      "cell_type": "markdown",
      "source": [
        "The re.VERBOSE argument allows you to add whitespace and comments to the string passed to re.compile()"
      ],
      "metadata": {
        "id": "JAxD1sCDk8ET"
      }
    },
    {
      "cell_type": "markdown",
      "source": [
        "Q20.  How would you write a regex that match a number with comma for every three digits? It must match the given following:"
      ],
      "metadata": {
        "id": "3LS2HMlalCHZ"
      }
    },
    {
      "cell_type": "code",
      "source": [
        "import re\n",
        "reg1 = re.compile(r'^\\d{1,3}(,\\d{3})*$')\n",
        "mo1 = reg1.search('42')\n",
        "mo1.group()"
      ],
      "metadata": {
        "colab": {
          "base_uri": "https://localhost:8080/",
          "height": 35
        },
        "id": "W6vChzWfqPA7",
        "outputId": "02799ef4-facf-4f58-eb69-51ddd8375dc6"
      },
      "execution_count": 2,
      "outputs": [
        {
          "output_type": "execute_result",
          "data": {
            "text/plain": [
              "'42'"
            ],
            "application/vnd.google.colaboratory.intrinsic+json": {
              "type": "string"
            }
          },
          "metadata": {},
          "execution_count": 2
        }
      ]
    },
    {
      "cell_type": "code",
      "source": [
        "reg1 = re.compile(r'^\\d{1,3}(,\\d{3})*$')\n",
        "mo1 = reg1.search('1,234')\n",
        "mo1.group()"
      ],
      "metadata": {
        "colab": {
          "base_uri": "https://localhost:8080/",
          "height": 35
        },
        "id": "UVZxEKTQuAnv",
        "outputId": "ec60f4e7-4c9f-4a82-8795-2cd64d002b9b"
      },
      "execution_count": 3,
      "outputs": [
        {
          "output_type": "execute_result",
          "data": {
            "text/plain": [
              "'1,234'"
            ],
            "application/vnd.google.colaboratory.intrinsic+json": {
              "type": "string"
            }
          },
          "metadata": {},
          "execution_count": 3
        }
      ]
    },
    {
      "cell_type": "code",
      "source": [
        "reg1 = re.compile(r'^\\d{1,3}(,\\d{3})*$')\n",
        "mo1 = reg1.search('6,368,745')\n",
        "mo1.group()"
      ],
      "metadata": {
        "colab": {
          "base_uri": "https://localhost:8080/",
          "height": 35
        },
        "id": "Rvlw-OrguG6l",
        "outputId": "d8d8c88c-3c4a-4263-829a-da195b4417f7"
      },
      "execution_count": 4,
      "outputs": [
        {
          "output_type": "execute_result",
          "data": {
            "text/plain": [
              "'6,368,745'"
            ],
            "application/vnd.google.colaboratory.intrinsic+json": {
              "type": "string"
            }
          },
          "metadata": {},
          "execution_count": 4
        }
      ]
    },
    {
      "cell_type": "markdown",
      "source": [
        "Q21. 21. How would you write a regex that matches the full name of someone whose last name is\n",
        "Watanabe? You can assume that the first name that comes before it will always be one word that\n",
        "begins with a capital letter. The regex must match the following:"
      ],
      "metadata": {
        "id": "ZoluNP6buL29"
      }
    },
    {
      "cell_type": "code",
      "source": [
        "name = re.compile(r'[A-Z][a-z]*\\sWatanabe')\n",
        "reg1 = re.compile(r'^\\d{1,3}(,\\d{haruto Watanabe3})*$')\n",
        "mo1 = name.search('Haruto Watanabe')\n",
        "mo1.group()"
      ],
      "metadata": {
        "colab": {
          "base_uri": "https://localhost:8080/",
          "height": 35
        },
        "id": "gZc2LH35uPew",
        "outputId": "112b1ccf-e3cd-47db-9664-8c542aeb59e5"
      },
      "execution_count": 5,
      "outputs": [
        {
          "output_type": "execute_result",
          "data": {
            "text/plain": [
              "'Haruto Watanabe'"
            ],
            "application/vnd.google.colaboratory.intrinsic+json": {
              "type": "string"
            }
          },
          "metadata": {},
          "execution_count": 5
        }
      ]
    },
    {
      "cell_type": "code",
      "source": [
        "name = re.compile(r'[A-Z][a-z]*\\sWatanabe')\n",
        "reg1 = re.compile(r'^\\d{1,3}(,\\d{3})*$')\n",
        "mo1 = name.search('Alice Watanabe')\n",
        "mo1.group()"
      ],
      "metadata": {
        "colab": {
          "base_uri": "https://localhost:8080/",
          "height": 35
        },
        "id": "ujtmdQm3uSjr",
        "outputId": "b3cbdda2-6d1d-4dbb-ffd7-e2a577c0842c"
      },
      "execution_count": 6,
      "outputs": [
        {
          "output_type": "execute_result",
          "data": {
            "text/plain": [
              "'Alice Watanabe'"
            ],
            "application/vnd.google.colaboratory.intrinsic+json": {
              "type": "string"
            }
          },
          "metadata": {},
          "execution_count": 6
        }
      ]
    },
    {
      "cell_type": "code",
      "source": [
        "name = re.compile(r'[A-Z][a-z]*\\sWatanabe')\n",
        "reg1 = re.compile(r'^\\d{1,3}(,\\d{3})*$')\n",
        "mo1 = name.search('Robocop Watanabe')\n",
        "mo1.group()"
      ],
      "metadata": {
        "colab": {
          "base_uri": "https://localhost:8080/",
          "height": 35
        },
        "id": "8qdpOJSJuXJF",
        "outputId": "90e8f103-8364-428e-97dc-38a47da1f407"
      },
      "execution_count": 7,
      "outputs": [
        {
          "output_type": "execute_result",
          "data": {
            "text/plain": [
              "'Robocop Watanabe'"
            ],
            "application/vnd.google.colaboratory.intrinsic+json": {
              "type": "string"
            }
          },
          "metadata": {},
          "execution_count": 7
        }
      ]
    },
    {
      "cell_type": "markdown",
      "source": [
        "Q22.  How would you write a regex that matches a sentence where the first word is either Alice, Bob,or Carol; the second word is either eats, pets, or throws; the third word is apples, cats, or baseballs; and the sentence ends with a period? This regex should be case-insensitive. It must match the following:"
      ],
      "metadata": {
        "id": "T0ZHLD7EuaK8"
      }
    },
    {
      "cell_type": "code",
      "source": [
        "name = re.compile(r'(Alice|Bob|Carol)\\s(eats|pets|throws)\\s(apples|cats|baseballs)\\.', re.IGNORECASE)\n",
        "\n",
        "mo1 = name.search('Alice eats apples.')\n",
        "mo1.group()"
      ],
      "metadata": {
        "colab": {
          "base_uri": "https://localhost:8080/",
          "height": 35
        },
        "id": "Aw9OPqR7unNA",
        "outputId": "8062555d-598d-444c-9920-00ac1ec67d4c"
      },
      "execution_count": 8,
      "outputs": [
        {
          "output_type": "execute_result",
          "data": {
            "text/plain": [
              "'Alice eats apples.'"
            ],
            "application/vnd.google.colaboratory.intrinsic+json": {
              "type": "string"
            }
          },
          "metadata": {},
          "execution_count": 8
        }
      ]
    },
    {
      "cell_type": "code",
      "source": [
        "name = re.compile(r'(Alice|Bob|Carol)\\s(eats|pets|throws)\\s(apples|cats|baseballs)\\.', re.IGNORECASE)\n",
        "\n",
        "mo1 = name.search('Carol throws baseballs.')\n",
        "mo1.group()"
      ],
      "metadata": {
        "colab": {
          "base_uri": "https://localhost:8080/",
          "height": 35
        },
        "id": "clkna_m2uqpr",
        "outputId": "9b1b4c59-69f1-4e0e-b13b-0a479fb42245"
      },
      "execution_count": 9,
      "outputs": [
        {
          "output_type": "execute_result",
          "data": {
            "text/plain": [
              "'Carol throws baseballs.'"
            ],
            "application/vnd.google.colaboratory.intrinsic+json": {
              "type": "string"
            }
          },
          "metadata": {},
          "execution_count": 9
        }
      ]
    }
  ]
}