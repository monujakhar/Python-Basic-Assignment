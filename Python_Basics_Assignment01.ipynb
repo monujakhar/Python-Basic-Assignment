{
  "nbformat": 4,
  "nbformat_minor": 0,
  "metadata": {
    "colab": {
      "provenance": []
    },
    "kernelspec": {
      "name": "python3",
      "display_name": "Python 3"
    },
    "language_info": {
      "name": "python"
    }
  },
  "cells": [
    {
      "cell_type": "markdown",
      "source": [
        "Q1. In the below elements which of them are values or an expression?\n",
        "eg:- values can be\n",
        "integer or string and expressions will be mathematical operators.\n",
        "*\n",
        "&#39;hello&#39;\n",
        "-87.8\n",
        "-\n",
        "/\n",
        "+"
      ],
      "metadata": {
        "id": "KkeuEwQDLCmb"
      }
    },
    {
      "cell_type": "code",
      "source": [
        "* (star or aestric operator) we use this operator for multiplying.\n",
        "'hello' it is a string.\n",
        "-87.8 Float\n",
        "- Substratcion Operator\n",
        "/ Divison Operator\n",
        "+ Addition Operator"
      ],
      "metadata": {
        "id": "YVaJbBgPLOK7"
      },
      "execution_count": null,
      "outputs": []
    },
    {
      "cell_type": "markdown",
      "source": [
        "Q2. What is the difference between string and variable?"
      ],
      "metadata": {
        "id": "LK2j2eXRMY2N"
      }
    },
    {
      "cell_type": "code",
      "source": [
        "A variable is a store of information and string is a type of variable we used to store in a variable.\n",
        "String is used to represent in words enclosed with \"\"\n",
        "Example -\n",
        "A = \"monu\"\n",
        "here A is variable and we declared it as a string "
      ],
      "metadata": {
        "id": "dkgqoTYIMfvo"
      },
      "execution_count": null,
      "outputs": []
    },
    {
      "cell_type": "markdown",
      "source": [
        "Q3. Describe three different data types?"
      ],
      "metadata": {
        "id": "SG0Mw2R_Mhkv"
      }
    },
    {
      "cell_type": "code",
      "source": [
        "1. Numeric Data Types - \n",
        "    (a) int - used to store data in numeric form. example X = 11\n",
        "    (b) float - used to store data in numeric form with decimal also. example X = 11.11\n",
        "    (c) complex - used to store data in real or imaginary form. example X = 2j\n",
        "2. Text Data Type -\n",
        "    (a) string - string is used to represent in words and enclosed with \"\" to store data in a variable\n",
        "3. Sequence Data Type -\n",
        "    (a) list - used to store multiple data items in a single variable. example X = [\"monu\" , \"sunil\" , \"jakhar\"]\n",
        "    (b) tuple - used to store multiple data items in a single variable. example X = (\"monu\" , \"sunil\" , \"jakhar\")\n",
        "    (c) range - it returna a sequence of numbers, starting from 0 by default and increment by 1 and it stops before a specified number. X = range(6)"
      ],
      "metadata": {
        "id": "tod0pz5NMnEd"
      },
      "execution_count": null,
      "outputs": []
    },
    {
      "cell_type": "markdown",
      "source": [
        "Q4. What is an expression made up of? What do all expressions do?"
      ],
      "metadata": {
        "id": "ZTA9eHZGMoPZ"
      }
    },
    {
      "cell_type": "code",
      "source": [
        "Expressions are made up of operators and operands. Expressions are used to produce some other value."
      ],
      "metadata": {
        "id": "mjbDyY-6MtSp"
      },
      "execution_count": null,
      "outputs": []
    },
    {
      "cell_type": "markdown",
      "source": [
        "Q5. This assignment statements, like spam = 10. What is the difference between an\n",
        "expression and a statement?"
      ],
      "metadata": {
        "id": "s9XxfPz5MuPl"
      }
    },
    {
      "cell_type": "code",
      "source": [
        "Expressions are specific in meaning whereas statement is two sided excution.\n",
        "Example - when we use loop in statements so there will be condition like this or else this.\n",
        "So statement can be of a line or a block of codes."
      ],
      "metadata": {
        "id": "8DyHJd02MzMm"
      },
      "execution_count": null,
      "outputs": []
    },
    {
      "cell_type": "markdown",
      "source": [
        "Q6. After running the following code, what does the variable bacon contain?\n",
        "\n",
        "bacon = 22\n",
        "\n",
        "bacon + 1"
      ],
      "metadata": {
        "id": "CIXWxcb1M0hv"
      }
    },
    {
      "cell_type": "code",
      "source": [
        "After running first code bacon = 22 \n",
        "Now, bacon conatins numeric value 22 and then in second code we added 1 in this.\n",
        "After running second code bacon + 1 we get 23 because we assigned the 22 value as bacon in first code   "
      ],
      "metadata": {
        "id": "AS8Mpe65cR0y"
      },
      "execution_count": null,
      "outputs": []
    },
    {
      "cell_type": "markdown",
      "source": [
        "Q7. What should the values of the following two terms be?\n",
        "'spam' + 'spamspam'\n",
        "'spam' * 3"
      ],
      "metadata": {
        "id": "RJQO1FuzNAWY"
      }
    },
    {
      "cell_type": "code",
      "source": [
        "'spam' + 'spamspam' = 'spamspamspam' addition\n",
        "'spam' * 3 = 'spamspamspam' multiplying"
      ],
      "metadata": {
        "id": "u4ivgUc0dNwz"
      },
      "execution_count": null,
      "outputs": []
    },
    {
      "cell_type": "markdown",
      "source": [
        "Q8. Why is eggs a valid variable name while 100 is invalid?"
      ],
      "metadata": {
        "id": "tRH0e31xNTWu"
      }
    },
    {
      "cell_type": "code",
      "source": [
        "Eggs is valid variable name while 100 is invalid because variables cannot begin with number."
      ],
      "metadata": {
        "id": "JJdSHh5FNYfa"
      },
      "execution_count": null,
      "outputs": []
    },
    {
      "cell_type": "markdown",
      "source": [
        "Q9. What three functions can be used to get the integer, floating-point number, or string\n",
        "version of a value?"
      ],
      "metadata": {
        "id": "wRHEnGzvNZVL"
      }
    },
    {
      "cell_type": "code",
      "source": [
        "integer = int()\n",
        "floating point number = float()\n",
        "string version of value = str()"
      ],
      "metadata": {
        "id": "iEB6DfoGNexh"
      },
      "execution_count": null,
      "outputs": []
    },
    {
      "cell_type": "markdown",
      "source": [
        "10. Why does this expression cause an error? How can you fix it?\n",
        "'I have eaten' + 99 + 'burritos"
      ],
      "metadata": {
        "id": "vamZVGYVNfw6"
      }
    },
    {
      "cell_type": "code",
      "source": [
        "This expression causes an error because we are adding different data types (string with integers)\n",
        "We can fix by putting 99 in enclosed '99'\n",
        "\n",
        "'i have eaten' + '99' + 'nurritos' \n",
        "Output will be - \n",
        "'i have eaten99nurritos'"
      ],
      "metadata": {
        "id": "EftNCS6CNs3a"
      },
      "execution_count": null,
      "outputs": []
    }
  ]
}