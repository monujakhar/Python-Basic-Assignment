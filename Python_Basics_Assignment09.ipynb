{
  "nbformat": 4,
  "nbformat_minor": 0,
  "metadata": {
    "colab": {
      "provenance": []
    },
    "kernelspec": {
      "name": "python3",
      "display_name": "Python 3"
    },
    "language_info": {
      "name": "python"
    }
  },
  "cells": [
    {
      "cell_type": "markdown",
      "source": [
        "Q1. To what does a relative path refer?"
      ],
      "metadata": {
        "id": "Y4Tunal9pfsO"
      }
    },
    {
      "cell_type": "markdown",
      "source": [
        "The relative path is the path to some file with respect to your current working directory (PWD).\n",
        "\n",
        "**For example:** if Absolute path to a file called stuff.txt is: C:/users/admin/docs/stuff.txt If my PWD is C:/users/admin/ , then the relative path to stuff.txt would be: docs/stuff.txt\n",
        "\n",
        "Note: PWD + relative path = absolute path"
      ],
      "metadata": {
        "id": "Pn56ORgZqlbc"
      }
    },
    {
      "cell_type": "markdown",
      "source": [
        "Q2.Where does an absolute path start with your Operating System ?"
      ],
      "metadata": {
        "id": "LP-q8fpXqonQ"
      }
    },
    {
      "cell_type": "markdown",
      "source": [
        "In Linux based systems the absolute path starts with /. Where as in Windows based systems absolute path starts with C:"
      ],
      "metadata": {
        "id": "Wdx2BIymq-0j"
      }
    },
    {
      "cell_type": "markdown",
      "source": [
        "Q3. What does the functions os.getcwd() and os.chdir() do ?"
      ],
      "metadata": {
        "id": "s_nf3FpOrBgg"
      }
    },
    {
      "cell_type": "markdown",
      "source": [
        "os.getcwd() method tells us the location of current working directory (CWD). Whereas os.chdir() method in Python used to change the current working directory to specified path. These functions are similar to linux commands pwd and cd"
      ],
      "metadata": {
        "id": "GcHhV5YMrGW9"
      }
    },
    {
      "cell_type": "code",
      "source": [
        "import os\n",
        "print(os.getcwd()) # Prints the current Working Directory\n",
        "path = r'C:\\Users\\monuj\\Documents'\n",
        "os.chdir(path)\n",
        "print(os.getcwd())"
      ],
      "metadata": {
        "colab": {
          "base_uri": "https://localhost:8080/",
          "height": 235
        },
        "id": "ng-2AFxprJIs",
        "outputId": "47dfd28a-d10e-41e3-eee4-87021f956139"
      },
      "execution_count": null,
      "outputs": [
        {
          "output_type": "stream",
          "name": "stdout",
          "text": [
            "/content\n"
          ]
        },
        {
          "output_type": "error",
          "ename": "FileNotFoundError",
          "evalue": "ignored",
          "traceback": [
            "\u001b[0;31m---------------------------------------------------------------------------\u001b[0m",
            "\u001b[0;31mFileNotFoundError\u001b[0m                         Traceback (most recent call last)",
            "\u001b[0;32m<ipython-input-8-3bc0b08229a4>\u001b[0m in \u001b[0;36m<cell line: 4>\u001b[0;34m()\u001b[0m\n\u001b[1;32m      2\u001b[0m \u001b[0mprint\u001b[0m\u001b[0;34m(\u001b[0m\u001b[0mos\u001b[0m\u001b[0;34m.\u001b[0m\u001b[0mgetcwd\u001b[0m\u001b[0;34m(\u001b[0m\u001b[0;34m)\u001b[0m\u001b[0;34m)\u001b[0m \u001b[0;31m# Prints the current Working Directory\u001b[0m\u001b[0;34m\u001b[0m\u001b[0;34m\u001b[0m\u001b[0m\n\u001b[1;32m      3\u001b[0m \u001b[0mpath\u001b[0m \u001b[0;34m=\u001b[0m \u001b[0;34mr'C:\\Users\\monuj\\Documents'\u001b[0m\u001b[0;34m\u001b[0m\u001b[0;34m\u001b[0m\u001b[0m\n\u001b[0;32m----> 4\u001b[0;31m \u001b[0mos\u001b[0m\u001b[0;34m.\u001b[0m\u001b[0mchdir\u001b[0m\u001b[0;34m(\u001b[0m\u001b[0mpath\u001b[0m\u001b[0;34m)\u001b[0m\u001b[0;34m\u001b[0m\u001b[0;34m\u001b[0m\u001b[0m\n\u001b[0m\u001b[1;32m      5\u001b[0m \u001b[0mprint\u001b[0m\u001b[0;34m(\u001b[0m\u001b[0mos\u001b[0m\u001b[0;34m.\u001b[0m\u001b[0mgetcwd\u001b[0m\u001b[0;34m(\u001b[0m\u001b[0;34m)\u001b[0m\u001b[0;34m)\u001b[0m\u001b[0;34m\u001b[0m\u001b[0;34m\u001b[0m\u001b[0m\n",
            "\u001b[0;31mFileNotFoundError\u001b[0m: [Errno 2] No such file or directory: 'C:\\\\Users\\\\monuj\\\\Documents'"
          ]
        }
      ]
    },
    {
      "cell_type": "markdown",
      "source": [
        "Q4. What are . and .. folders ?"
      ],
      "metadata": {
        "id": "v67S3at3rNEa"
      }
    },
    {
      "cell_type": "markdown",
      "source": [
        ". Represents the Current Directory Whereas .. Represents the Parent Directory of the Current Directory\n",
        "\n",
        "For Example: if the below path is my absolute path:\n",
        "C:\\\\Users\\\\vishnu\\\\Documents\\\\iNeuron-Assignments\\\\Python Basic Assignment\n",
        "\n",
        "Then . represents the path C:\\\\Users\\\\vishnu\\\\Documents\\\\iNeuron-Assignments\\\\Python Basic Assignment\n",
        "\n",
        "Where as .. represents the path C:\\\\Users\\\\vishnu\\\\Documents\\\\iNeuron-Assignments"
      ],
      "metadata": {
        "id": "eHtK6ZOErVze"
      }
    },
    {
      "cell_type": "markdown",
      "source": [
        "Q5.In C:\\bacon\\eggs\\spam.txt which part is the dir name and which part is the base name ?"
      ],
      "metadata": {
        "id": "DXti_B_TrdmY"
      }
    },
    {
      "cell_type": "markdown",
      "source": [
        "For C:\\bacon\\eggs\\spam.txt\n",
        "\n",
        "The dir name is C:\\\\bacon\\\\eggs\n",
        "\n",
        "The Base name is spam.txt"
      ],
      "metadata": {
        "id": "-cU2ym62rjwj"
      }
    },
    {
      "cell_type": "code",
      "source": [
        "import os\n",
        "path = r'C:\\bacon\\eggs\\spam.txt'\n",
        "print(os.path.dirname(path))\n",
        "print(os.path.basename(path))"
      ],
      "metadata": {
        "colab": {
          "base_uri": "https://localhost:8080/"
        },
        "id": "viv7q11SrmPW",
        "outputId": "da8c455d-e3f9-4bab-f8ca-7cacd6a86691"
      },
      "execution_count": null,
      "outputs": [
        {
          "output_type": "stream",
          "name": "stdout",
          "text": [
            "\n",
            "C:\\bacon\\eggs\\spam.txt\n"
          ]
        }
      ]
    },
    {
      "cell_type": "markdown",
      "source": [
        "Q6. What are the three “mode” arguments that can be passed to the open() function?"
      ],
      "metadata": {
        "id": "EnsWWuptr1k-"
      }
    },
    {
      "cell_type": "markdown",
      "source": [
        "A file can be Accessed in python using open() function. open function takes two arguments filename and mode of operation (optional). if mode is not provided the default mode of opening is read mode.\n",
        "\n",
        "So, the syntax being: open(filename, mode)\n",
        "\n",
        "‘r’ – Read Mode: This is the default mode for open(). The file is opened and a pointer is positioned at the beginning of the file’s content.\n",
        "\n",
        "‘w’ – Write Mode: Using this mode will overwrite any existing content in a file. If the given file does not exist, a new one will be created.\n",
        "\n",
        "‘r+’ – Read/Write Mode: Use this mode if you need to simultaneously read and write to a file.\n",
        "\n",
        "‘a’ – Append Mode: With this mode the user can append the data without overwriting any already existing data in the file.\n",
        "\n",
        "‘a+’ – Append and Read Mode: In this mode you can read and append the data without overwriting the original file.\n",
        "\n",
        "‘x’ – Exclusive Creating Mode: This mode is for the sole purpose of creating new files. Use this mode if you know the file to be written doesn’t exist beforehand."
      ],
      "metadata": {
        "id": "Cr2EMgBtr-PB"
      }
    },
    {
      "cell_type": "markdown",
      "source": [
        "Q7. What happens if an existing file is opened in write mode ?"
      ],
      "metadata": {
        "id": "wm59rLZWsGoy"
      }
    },
    {
      "cell_type": "markdown",
      "source": [
        "Using this mode will overwrite any existing content in a file. If the given file does not exist, a new one will be created."
      ],
      "metadata": {
        "id": "bcgRIdEAsTl2"
      }
    },
    {
      "cell_type": "markdown",
      "source": [
        "Q8. How do you tell the difference between read() and readlines() ?"
      ],
      "metadata": {
        "id": "D4tDMcoJsWQp"
      }
    },
    {
      "cell_type": "markdown",
      "source": [
        "The main difference is that read() will read the whole file at once and then print out the first characters that take up as many bytes as you specify in the parenthesis\n",
        "\n",
        "Whereas the readline() that will read and print out only the first characters that take up as many bytes as you specify in the parenthesis. You may want to use readline() when you're reading files that are too big for your RAM.\n",
        "\n",
        "The read() would treat each character in the file separately, meaning that the iteration would happen for every character.\n",
        "\n",
        "The readline() function, on the other hand, only reads a single line of the file. This means that if the first line of the file were three lines long, the readline() function would only parse (or iterate/operate) on the first line of the file."
      ],
      "metadata": {
        "id": "y80BcaaSsaln"
      }
    },
    {
      "cell_type": "markdown",
      "source": [
        "Q9.What data structure does a shelf value resemble ?"
      ],
      "metadata": {
        "id": "ybBD9Zt4sg40"
      }
    },
    {
      "cell_type": "markdown",
      "source": [
        " it contains key and values it represents dictionary."
      ],
      "metadata": {
        "id": "UZF1CPBYsm5N"
      }
    }
  ]
}