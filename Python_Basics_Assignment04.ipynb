{
  "nbformat": 4,
  "nbformat_minor": 0,
  "metadata": {
    "colab": {
      "provenance": []
    },
    "kernelspec": {
      "name": "python3",
      "display_name": "Python 3"
    },
    "language_info": {
      "name": "python"
    }
  },
  "cells": [
    {
      "cell_type": "markdown",
      "source": [
        "Q1. What exactly is []?"
      ],
      "metadata": {
        "id": "e0sJEK2GDsht"
      }
    },
    {
      "cell_type": "markdown",
      "source": [
        "Ans - [ ] is a empty list, like a =[ ]"
      ],
      "metadata": {
        "id": "SMMNcjx6DxEP"
      }
    },
    {
      "cell_type": "markdown",
      "source": [
        "Q2. In a list of values stored in a variable called spam, how would you assign the value &#39;hello&#39; as the\n",
        "third value? (Assume [2, 4, 6, 8, 10] are in spam.)"
      ],
      "metadata": {
        "id": "YZym-0sOEFjB"
      }
    },
    {
      "cell_type": "code",
      "source": [
        "spam = [2,4,6,8,10]\n",
        "spam[2] = \"hello\"\n",
        "spam"
      ],
      "metadata": {
        "colab": {
          "base_uri": "https://localhost:8080/"
        },
        "id": "RNQfPHy1lj88",
        "outputId": "26653623-4481-404e-c980-89e8cda2f42e"
      },
      "execution_count": null,
      "outputs": [
        {
          "output_type": "execute_result",
          "data": {
            "text/plain": [
              "[2, 4, 'hello', 8, 10]"
            ]
          },
          "metadata": {},
          "execution_count": 3
        }
      ]
    },
    {
      "cell_type": "markdown",
      "source": [
        "Let&#39;s pretend the spam includes the list [&#39;a&#39;, &#39;b&#39;, &#39;c&#39;, &#39;d&#39;] for the next three queries.\n",
        "\n",
        "Q3. What is the value of spam[int(int(&#39;3&#39; * 2) / 11)]?"
      ],
      "metadata": {
        "id": "hiJY_WFTmHsr"
      }
    },
    {
      "cell_type": "code",
      "source": [
        "spam = ['a' , 'b' , 'c' , 'd']\n",
        "spam[int(int('3'*2)/11)]"
      ],
      "metadata": {
        "colab": {
          "base_uri": "https://localhost:8080/",
          "height": 35
        },
        "id": "SXanTgzBoX7k",
        "outputId": "793fca04-044c-4d72-b22f-46443f45ef6e"
      },
      "execution_count": null,
      "outputs": [
        {
          "output_type": "execute_result",
          "data": {
            "text/plain": [
              "'d'"
            ],
            "application/vnd.google.colaboratory.intrinsic+json": {
              "type": "string"
            }
          },
          "metadata": {},
          "execution_count": 5
        }
      ]
    },
    {
      "cell_type": "markdown",
      "source": [
        "Q4. What is the value of spam[-1]?"
      ],
      "metadata": {
        "id": "TD8gF867ovF1"
      }
    },
    {
      "cell_type": "code",
      "source": [
        "spam = ['a' , 'b' , 'c' , 'd']\n",
        "spam[-1]"
      ],
      "metadata": {
        "colab": {
          "base_uri": "https://localhost:8080/",
          "height": 35
        },
        "id": "M4n5i7Qdo0zU",
        "outputId": "63361235-a53a-4302-eb75-b62e32817222"
      },
      "execution_count": null,
      "outputs": [
        {
          "output_type": "execute_result",
          "data": {
            "text/plain": [
              "'d'"
            ],
            "application/vnd.google.colaboratory.intrinsic+json": {
              "type": "string"
            }
          },
          "metadata": {},
          "execution_count": 7
        }
      ]
    },
    {
      "cell_type": "code",
      "source": [
        "Q5. What is the value of spam[:2]?"
      ],
      "metadata": {
        "id": "m9wrb7_LpH3i"
      },
      "execution_count": null,
      "outputs": []
    },
    {
      "cell_type": "code",
      "source": [
        "spam = ['a' , 'b' , 'c' , 'd']\n",
        "spam[:2]"
      ],
      "metadata": {
        "colab": {
          "base_uri": "https://localhost:8080/"
        },
        "id": "rjDxqoPdo4OV",
        "outputId": "74d4eb5f-de96-40a8-ced4-4fac2a64a5ae"
      },
      "execution_count": null,
      "outputs": [
        {
          "output_type": "execute_result",
          "data": {
            "text/plain": [
              "['a', 'b']"
            ]
          },
          "metadata": {},
          "execution_count": 8
        }
      ]
    },
    {
      "cell_type": "code",
      "source": [
        "Let's pretend bacon has the list [3.14 , 'cat' , 11 , 'cat' , True] for the next three questions.\n",
        "Q6. What is the value of bacon.index('cat')?"
      ],
      "metadata": {
        "id": "oVQEeJf7pNFh"
      },
      "execution_count": null,
      "outputs": []
    },
    {
      "cell_type": "code",
      "source": [
        "bacon = [3.14 , 'cat' , 11 , 'cat' , True]\n",
        "bacon.index('cat')     # it returns the index of first occurence of 'cat'"
      ],
      "metadata": {
        "colab": {
          "base_uri": "https://localhost:8080/"
        },
        "id": "tNOlKohG5L_R",
        "outputId": "7080c6db-3053-465b-a81c-513f13b3d5e9"
      },
      "execution_count": 1,
      "outputs": [
        {
          "output_type": "execute_result",
          "data": {
            "text/plain": [
              "1"
            ]
          },
          "metadata": {},
          "execution_count": 1
        }
      ]
    },
    {
      "cell_type": "markdown",
      "source": [
        "Q7. How does bacon.append(99) change the look of the list value in bacon?"
      ],
      "metadata": {
        "id": "BM5Wcb7d5alW"
      }
    },
    {
      "cell_type": "code",
      "source": [
        "bacon = [3.14 , 'cat' , 11 , 'cat' , True]\n",
        "bacon.append(99)   # append adds the items to the end of the list"
      ],
      "metadata": {
        "id": "QkhA6pDU53Zl"
      },
      "execution_count": 2,
      "outputs": []
    },
    {
      "cell_type": "code",
      "source": [
        "bacon"
      ],
      "metadata": {
        "colab": {
          "base_uri": "https://localhost:8080/"
        },
        "id": "CI9BjXkq6RwD",
        "outputId": "639f072e-0ae1-4b46-dd82-30664ca4ee4f"
      },
      "execution_count": 3,
      "outputs": [
        {
          "output_type": "execute_result",
          "data": {
            "text/plain": [
              "[3.14, 'cat', 11, 'cat', True, 99]"
            ]
          },
          "metadata": {},
          "execution_count": 3
        }
      ]
    },
    {
      "cell_type": "markdown",
      "source": [
        "Q8. How does bacon.remove('cat') change the look of the list in bacon?"
      ],
      "metadata": {
        "id": "z5x1AhkR6c7E"
      }
    },
    {
      "cell_type": "code",
      "source": [
        "bacon = [3.14 , 'cat' , 11 , 'cat' , True]\n",
        "bacon.remove('cat')          # it removes the first occurence of item\n",
        "bacon"
      ],
      "metadata": {
        "colab": {
          "base_uri": "https://localhost:8080/"
        },
        "id": "GLvEzru56mLw",
        "outputId": "696db060-76cb-4419-acfe-4bc124e09d29"
      },
      "execution_count": 4,
      "outputs": [
        {
          "output_type": "execute_result",
          "data": {
            "text/plain": [
              "[3.14, 11, 'cat', True]"
            ]
          },
          "metadata": {},
          "execution_count": 4
        }
      ]
    },
    {
      "cell_type": "markdown",
      "source": [
        "Q9. What are the list concatenation and list replication operators?"
      ],
      "metadata": {
        "id": "Dm_agCuN61eo"
      }
    },
    {
      "cell_type": "markdown",
      "source": [
        "Ans - ( * ) is list replication operator ( + ) is list concatination operator"
      ],
      "metadata": {
        "id": "hC6ajy-865-X"
      }
    },
    {
      "cell_type": "code",
      "source": [
        "l1 = [1,4]\n",
        "l2 = [2,5]\n",
        "# list concatination\n",
        "l1+l2"
      ],
      "metadata": {
        "colab": {
          "base_uri": "https://localhost:8080/"
        },
        "id": "zj2rydzh7DiQ",
        "outputId": "26737e34-41bb-46c1-8b61-7b060804b45e"
      },
      "execution_count": 5,
      "outputs": [
        {
          "output_type": "execute_result",
          "data": {
            "text/plain": [
              "[1, 4, 2, 5]"
            ]
          },
          "metadata": {},
          "execution_count": 5
        }
      ]
    },
    {
      "cell_type": "code",
      "source": [
        "l1 = [7,4]\n",
        "# list replication\n",
        "l1*3"
      ],
      "metadata": {
        "colab": {
          "base_uri": "https://localhost:8080/"
        },
        "id": "65ZOcgx57IBU",
        "outputId": "20f12f76-3ee3-4772-b1c5-198fc5440fa3"
      },
      "execution_count": 6,
      "outputs": [
        {
          "output_type": "execute_result",
          "data": {
            "text/plain": [
              "[7, 4, 7, 4, 7, 4]"
            ]
          },
          "metadata": {},
          "execution_count": 6
        }
      ]
    },
    {
      "cell_type": "markdown",
      "source": [
        "Q10. What is difference between the list methods append() and insert()?"
      ],
      "metadata": {
        "id": "I6YzOKRV7OXN"
      }
    },
    {
      "cell_type": "markdown",
      "source": [
        "Ans - append() Appends object to the end of the list\n",
        "\n",
        "insert() Insert object before index"
      ],
      "metadata": {
        "id": "-mgEiQ4e7TGH"
      }
    },
    {
      "cell_type": "code",
      "source": [
        "bacon = [3.14, 'cat', 11, 'cat', True]\n",
        "bacon.append(99) # append adds the item at the end of the list\n",
        "bacon"
      ],
      "metadata": {
        "colab": {
          "base_uri": "https://localhost:8080/"
        },
        "id": "gUBTzBlI7aGB",
        "outputId": "bd33efe3-39f3-47e2-f445-0746fbdac839"
      },
      "execution_count": 8,
      "outputs": [
        {
          "output_type": "execute_result",
          "data": {
            "text/plain": [
              "[3.14, 'cat', 11, 'cat', True, 99]"
            ]
          },
          "metadata": {},
          "execution_count": 8
        }
      ]
    },
    {
      "cell_type": "code",
      "source": [
        "# inserting value in 3rd index\n",
        "spam = [2, 4, 6, 8, 10]\n",
        "spam.insert(2,'hello')\n",
        "spam"
      ],
      "metadata": {
        "colab": {
          "base_uri": "https://localhost:8080/"
        },
        "id": "_H8bFJbx7cNN",
        "outputId": "8ec0f192-10e6-4699-9d64-781383d51029"
      },
      "execution_count": 9,
      "outputs": [
        {
          "output_type": "execute_result",
          "data": {
            "text/plain": [
              "[2, 4, 'hello', 6, 8, 10]"
            ]
          },
          "metadata": {},
          "execution_count": 9
        }
      ]
    },
    {
      "cell_type": "markdown",
      "source": [
        "Q11. What are the two methods for removing items from a list?"
      ],
      "metadata": {
        "id": "hvLFiQHy7073"
      }
    },
    {
      "cell_type": "markdown",
      "source": [
        "Ans - remove (removes first occurence of first a item)\n",
        "\n",
        "pop() (remove and return item at index default last)"
      ],
      "metadata": {
        "id": "mCchXnSi75Ne"
      }
    },
    {
      "cell_type": "code",
      "source": [
        "#remove(item) - removes first occurence of a item\n",
        "bacon = [3.14, 'cat', 11, 'cat', True]\n",
        "bacon.remove('cat')\n",
        "bacon"
      ],
      "metadata": {
        "colab": {
          "base_uri": "https://localhost:8080/"
        },
        "id": "a52lXzNl8V1J",
        "outputId": "2034fd0b-2205-4c38-9f9f-9792d90082f4"
      },
      "execution_count": 12,
      "outputs": [
        {
          "output_type": "execute_result",
          "data": {
            "text/plain": [
              "[3.14, 11, 'cat', True]"
            ]
          },
          "metadata": {},
          "execution_count": 12
        }
      ]
    },
    {
      "cell_type": "code",
      "source": [
        "#pop() - Remove and returns item at index (default last).\n",
        "bacon = [3.14, 'cat', 11, 'cat', True]\n",
        "bacon.pop()\n",
        "bacon"
      ],
      "metadata": {
        "colab": {
          "base_uri": "https://localhost:8080/"
        },
        "id": "6vJYNc9F8bHu",
        "outputId": "043c6ef7-4b68-40c5-bf99-f4d12076dba7"
      },
      "execution_count": 13,
      "outputs": [
        {
          "output_type": "execute_result",
          "data": {
            "text/plain": [
              "[3.14, 'cat', 11, 'cat']"
            ]
          },
          "metadata": {},
          "execution_count": 13
        }
      ]
    },
    {
      "cell_type": "markdown",
      "source": [
        "Q12. Describe how list values and string values are identical?"
      ],
      "metadata": {
        "id": "CpBjLME88oPT"
      }
    },
    {
      "cell_type": "code",
      "source": [
        "Ans - 1 Both lists and strings can be passed to len() \n",
        "      2 Have indexes and slices.\n",
        "      3 Can be used in for loops.\n",
        "      4 Can be concatenated or replicated.\n",
        "      5 Can be used with the in and not in operators."
      ],
      "metadata": {
        "id": "ZpIjzbKH9kxy"
      },
      "execution_count": null,
      "outputs": []
    },
    {
      "cell_type": "markdown",
      "source": [
        "Q13. What's the difference between tuples and lists?\n",
        "\n"
      ],
      "metadata": {
        "id": "DNJZkMNp9LwS"
      }
    },
    {
      "cell_type": "markdown",
      "source": [
        "Ans - Lists : are mutable - they can have values added, removed, or changed. lists use the square brackets, [ and ]\n",
        "\n",
        "Tuples : are immutable; they cannot be changed at all. Tuples are written using parentheses, ( and )"
      ],
      "metadata": {
        "id": "oxR1vu9c9qqe"
      }
    },
    {
      "cell_type": "markdown",
      "source": [
        "Q14. How do you type a tuple value that only contains the integer 42?"
      ],
      "metadata": {
        "id": "qJadCyjV9zbb"
      }
    },
    {
      "cell_type": "code",
      "source": [
        "tuple = (42)\n",
        "tuple"
      ],
      "metadata": {
        "colab": {
          "base_uri": "https://localhost:8080/"
        },
        "id": "9k6g4XQF-C1w",
        "outputId": "8f27521d-04c2-44fa-f60b-0f02deb06c02"
      },
      "execution_count": 15,
      "outputs": [
        {
          "output_type": "execute_result",
          "data": {
            "text/plain": [
              "42"
            ]
          },
          "metadata": {},
          "execution_count": 15
        }
      ]
    },
    {
      "cell_type": "markdown",
      "source": [
        "Q15. How do you get a list value's tuple form? How do you get a tuple value's list form?"
      ],
      "metadata": {
        "id": "IXyV3TQI-JoA"
      }
    },
    {
      "cell_type": "code",
      "source": [
        "l1 = [2,3]\n",
        "l = tuple(l1)\n",
        "l"
      ],
      "metadata": {
        "id": "9ELNgaTH_Kb2"
      },
      "execution_count": null,
      "outputs": []
    },
    {
      "cell_type": "code",
      "source": [
        "t1 = (2,3)\n",
        "t = list(t1)\n",
        "t"
      ],
      "metadata": {
        "colab": {
          "base_uri": "https://localhost:8080/"
        },
        "id": "BCwZshIk-cYz",
        "outputId": "1339e655-7258-43cd-b506-52a772e041d3"
      },
      "execution_count": 18,
      "outputs": [
        {
          "output_type": "execute_result",
          "data": {
            "text/plain": [
              "[2, 3]"
            ]
          },
          "metadata": {},
          "execution_count": 18
        }
      ]
    },
    {
      "cell_type": "markdown",
      "source": [
        "Q16. Variables that 'contain' list values are not necessarily lists themselves. Instead, what do they\n",
        "contain?"
      ],
      "metadata": {
        "id": "9VZeKVMR_Mkk"
      }
    },
    {
      "cell_type": "markdown",
      "source": [
        "Ans - They contain references to list value"
      ],
      "metadata": {
        "id": "yt-09p1Z_VoJ"
      }
    },
    {
      "cell_type": "markdown",
      "source": [
        "Q17. How do you distinguish between copy.copy() and copy.deepcopy()?"
      ],
      "metadata": {
        "id": "Ptr-NKbK_b2x"
      }
    },
    {
      "cell_type": "markdown",
      "source": [
        "Ans - The copy.copy() function will do a shallow copy of a list.\n",
        "\n",
        "The copy.deepcopy() function will do a deep copy of a list. only copy.deepcopy() will duplicate any lists inside the list."
      ],
      "metadata": {
        "id": "GDDTMVu5_oCY"
      }
    }
  ]
}