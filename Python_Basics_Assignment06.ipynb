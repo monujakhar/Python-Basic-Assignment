{
  "nbformat": 4,
  "nbformat_minor": 0,
  "metadata": {
    "colab": {
      "provenance": []
    },
    "kernelspec": {
      "name": "python3",
      "display_name": "Python 3"
    },
    "language_info": {
      "name": "python"
    }
  },
  "cells": [
    {
      "cell_type": "markdown",
      "source": [
        "Q1. What are escape characters, and how do you use them?"
      ],
      "metadata": {
        "id": "JykCtE6wGmP7"
      }
    },
    {
      "cell_type": "markdown",
      "source": [
        "In Python strings, the backslash \"\" is a special character, also called the \"escape\" character. It is used in representing certain whitespace characters: \"\\t\" is a tab, \"\\n\" is a newline, and \"\\r\" is a carriage return"
      ],
      "metadata": {
        "id": "0C-LEeVLGps3"
      }
    },
    {
      "cell_type": "code",
      "source": [
        "print(\"my \\\n",
        "name \\\n",
        "is\")"
      ],
      "metadata": {
        "colab": {
          "base_uri": "https://localhost:8080/"
        },
        "id": "pU9x9ifGGsNM",
        "outputId": "ebc4fb96-11ff-4ec1-b334-de4e6c54da2b"
      },
      "execution_count": null,
      "outputs": [
        {
          "output_type": "stream",
          "name": "stdout",
          "text": [
            "my name is\n"
          ]
        }
      ]
    },
    {
      "cell_type": "markdown",
      "source": [
        "Q2. What do the escape characters n and t stand for?"
      ],
      "metadata": {
        "id": "PsXjsKjgGxRo"
      }
    },
    {
      "cell_type": "markdown",
      "source": [
        "\"\\t\" is a tab, \"\\n\" is a newline"
      ],
      "metadata": {
        "id": "vz3Ll9slG16Y"
      }
    },
    {
      "cell_type": "markdown",
      "source": [
        "Q3. What is the way to include backslash characters in a string?"
      ],
      "metadata": {
        "id": "wklI24RbG6Hu"
      }
    },
    {
      "cell_type": "code",
      "source": [
        "print('its a back slash \\ in a line')"
      ],
      "metadata": {
        "colab": {
          "base_uri": "https://localhost:8080/"
        },
        "id": "kc1t2568G-Uw",
        "outputId": "57955ecb-1c41-4c10-e78d-36d0605e35ba"
      },
      "execution_count": null,
      "outputs": [
        {
          "output_type": "stream",
          "name": "stdout",
          "text": [
            "its a back slash \\ in a line\n"
          ]
        }
      ]
    },
    {
      "cell_type": "markdown",
      "source": [
        "Q4. The string \"Howl's Moving Castle\" is a correct value. Why isn't the single quote character in the word Howl's not escaped a problem?"
      ],
      "metadata": {
        "id": "2zb987FXHEhs"
      }
    },
    {
      "cell_type": "markdown",
      "source": [
        "The single quote in Howl's is fine because you've used double quotes to mark the beginning and end of the string. like wise we can use double quotes in with single quotes"
      ],
      "metadata": {
        "id": "pMtojHC8HJ0d"
      }
    },
    {
      "cell_type": "code",
      "source": [
        "print(\"HowI's Moving Castle\")"
      ],
      "metadata": {
        "colab": {
          "base_uri": "https://localhost:8080/"
        },
        "id": "J_oGyHksHLyq",
        "outputId": "6998136a-95ce-4952-ac2d-a7250fefe534"
      },
      "execution_count": null,
      "outputs": [
        {
          "output_type": "stream",
          "name": "stdout",
          "text": [
            "HowI's Moving Castle\n"
          ]
        }
      ]
    },
    {
      "cell_type": "code",
      "source": [
        "# like wise we can use double quote in side single quote\n",
        "print('Its a \"Nice\" Day')"
      ],
      "metadata": {
        "colab": {
          "base_uri": "https://localhost:8080/"
        },
        "id": "BXx2BViTHXDP",
        "outputId": "f24d8d67-4426-4fe8-9774-c231ca15f6c8"
      },
      "execution_count": null,
      "outputs": [
        {
          "output_type": "stream",
          "name": "stdout",
          "text": [
            "Its a \"Nice\" Day\n"
          ]
        }
      ]
    },
    {
      "cell_type": "markdown",
      "source": [
        "Q5. How do you write a string of newlines if you don't want to use the n character?"
      ],
      "metadata": {
        "id": "8b1bIYgFHadW"
      }
    },
    {
      "cell_type": "code",
      "source": [
        "print(\"printing something in new line\",end = '\\n')\n",
        "print(\"newline\")"
      ],
      "metadata": {
        "colab": {
          "base_uri": "https://localhost:8080/"
        },
        "id": "amRKO3e2Hers",
        "outputId": "8134f88b-a6d5-42fe-b67d-fcaf9deae902"
      },
      "execution_count": null,
      "outputs": [
        {
          "output_type": "stream",
          "name": "stdout",
          "text": [
            "printing something in new line\n",
            "newline\n"
          ]
        }
      ]
    },
    {
      "cell_type": "markdown",
      "source": [
        "Q6. What are the values of the given expressions?\n",
        "'Hello, world!'[1] 'Hello, world!'[0:5] 'Hello, world!'[:5] 'Hello, world!'[3:]"
      ],
      "metadata": {
        "id": "bYWz3JRDHmPd"
      }
    },
    {
      "cell_type": "code",
      "source": [
        "'Hello, world!'[1]"
      ],
      "metadata": {
        "colab": {
          "base_uri": "https://localhost:8080/",
          "height": 35
        },
        "id": "561UN2oMHuCy",
        "outputId": "7d950ebf-2aa6-41c7-c614-85619b0e3adf"
      },
      "execution_count": null,
      "outputs": [
        {
          "output_type": "execute_result",
          "data": {
            "text/plain": [
              "'e'"
            ],
            "application/vnd.google.colaboratory.intrinsic+json": {
              "type": "string"
            }
          },
          "metadata": {},
          "execution_count": 6
        }
      ]
    },
    {
      "cell_type": "code",
      "source": [
        "'Hello, world!'[0:5]"
      ],
      "metadata": {
        "colab": {
          "base_uri": "https://localhost:8080/",
          "height": 35
        },
        "id": "W20EogbIH4Je",
        "outputId": "4a59ddb9-0af1-4177-e9a6-575dc04af3eb"
      },
      "execution_count": null,
      "outputs": [
        {
          "output_type": "execute_result",
          "data": {
            "text/plain": [
              "'Hello'"
            ],
            "application/vnd.google.colaboratory.intrinsic+json": {
              "type": "string"
            }
          },
          "metadata": {},
          "execution_count": 7
        }
      ]
    },
    {
      "cell_type": "code",
      "source": [
        "'Hello, world!'[:5]"
      ],
      "metadata": {
        "colab": {
          "base_uri": "https://localhost:8080/",
          "height": 35
        },
        "id": "avPH3yJ9H9P5",
        "outputId": "5a74d5b6-815b-45a6-87ae-09f0564e32c8"
      },
      "execution_count": null,
      "outputs": [
        {
          "output_type": "execute_result",
          "data": {
            "text/plain": [
              "'Hello'"
            ],
            "application/vnd.google.colaboratory.intrinsic+json": {
              "type": "string"
            }
          },
          "metadata": {},
          "execution_count": 8
        }
      ]
    },
    {
      "cell_type": "code",
      "source": [
        "'Hello, world!'[3:]"
      ],
      "metadata": {
        "colab": {
          "base_uri": "https://localhost:8080/",
          "height": 35
        },
        "id": "ydElQQgaIARF",
        "outputId": "b5bdd26e-c26e-4511-fe8e-38393a7dd83a"
      },
      "execution_count": null,
      "outputs": [
        {
          "output_type": "execute_result",
          "data": {
            "text/plain": [
              "'lo, world!'"
            ],
            "application/vnd.google.colaboratory.intrinsic+json": {
              "type": "string"
            }
          },
          "metadata": {},
          "execution_count": 9
        }
      ]
    },
    {
      "cell_type": "markdown",
      "source": [
        "Q7.What are the values of the following expressions?\n",
        "'Hello'.upper() 'Hello'.upper().isupper() 'Hello'.upper().lower()"
      ],
      "metadata": {
        "id": "Y_ibvUuAIIAK"
      }
    },
    {
      "cell_type": "code",
      "source": [
        "'Hello'.upper()"
      ],
      "metadata": {
        "colab": {
          "base_uri": "https://localhost:8080/",
          "height": 35
        },
        "id": "QLzaVSf1INUy",
        "outputId": "105c5b8e-b6b1-4eb4-dd05-93e795af6d61"
      },
      "execution_count": null,
      "outputs": [
        {
          "output_type": "execute_result",
          "data": {
            "text/plain": [
              "'HELLO'"
            ],
            "application/vnd.google.colaboratory.intrinsic+json": {
              "type": "string"
            }
          },
          "metadata": {},
          "execution_count": 10
        }
      ]
    },
    {
      "cell_type": "code",
      "source": [
        "'Hello'.upper().isupper()"
      ],
      "metadata": {
        "colab": {
          "base_uri": "https://localhost:8080/"
        },
        "id": "eQTJONxQIPm9",
        "outputId": "63e2c1b7-9f8a-4e47-a811-078292ee423f"
      },
      "execution_count": null,
      "outputs": [
        {
          "output_type": "execute_result",
          "data": {
            "text/plain": [
              "True"
            ]
          },
          "metadata": {},
          "execution_count": 11
        }
      ]
    },
    {
      "cell_type": "code",
      "source": [
        "'Hello'.upper().lower()"
      ],
      "metadata": {
        "colab": {
          "base_uri": "https://localhost:8080/",
          "height": 35
        },
        "id": "R80YdAg6IS5J",
        "outputId": "db68d9ca-79d9-4f6a-c93c-42edf7845791"
      },
      "execution_count": null,
      "outputs": [
        {
          "output_type": "execute_result",
          "data": {
            "text/plain": [
              "'hello'"
            ],
            "application/vnd.google.colaboratory.intrinsic+json": {
              "type": "string"
            }
          },
          "metadata": {},
          "execution_count": 12
        }
      ]
    },
    {
      "cell_type": "markdown",
      "source": [
        "Q8. What are the values of the following expressions?\n",
        "\n",
        "'Remember, remember, the fifth of July.'.split()\n",
        "\n",
        " '-'.join('There can only one.'.split())"
      ],
      "metadata": {
        "id": "_GsT7DeqIZuL"
      }
    },
    {
      "cell_type": "code",
      "source": [
        "'Remember, remember, the fifth of July.'.split()"
      ],
      "metadata": {
        "colab": {
          "base_uri": "https://localhost:8080/"
        },
        "id": "aY9G4BcfIlng",
        "outputId": "f115d23b-31a9-483b-ca4f-d076020c3638"
      },
      "execution_count": null,
      "outputs": [
        {
          "output_type": "execute_result",
          "data": {
            "text/plain": [
              "['Remember,', 'remember,', 'the', 'fifth', 'of', 'July.']"
            ]
          },
          "metadata": {},
          "execution_count": 13
        }
      ]
    },
    {
      "cell_type": "code",
      "source": [
        "'-'.join('There can only one.'.split())"
      ],
      "metadata": {
        "colab": {
          "base_uri": "https://localhost:8080/",
          "height": 35
        },
        "id": "sNfSclPwIp4G",
        "outputId": "db8591cc-a80f-49a2-8159-303824f672d4"
      },
      "execution_count": null,
      "outputs": [
        {
          "output_type": "execute_result",
          "data": {
            "text/plain": [
              "'There-can-only-one.'"
            ],
            "application/vnd.google.colaboratory.intrinsic+json": {
              "type": "string"
            }
          },
          "metadata": {},
          "execution_count": 14
        }
      ]
    },
    {
      "cell_type": "markdown",
      "source": [
        "Q9. What are the methods for right-justifying, left-justifying, and centering a string?"
      ],
      "metadata": {
        "id": "an2ad5xsItca"
      }
    },
    {
      "cell_type": "code",
      "source": [
        "# left justified\n",
        "str =\"Shiva\"\n",
        "str.ljust(10,\"-\")"
      ],
      "metadata": {
        "colab": {
          "base_uri": "https://localhost:8080/",
          "height": 35
        },
        "id": "1kjV1VgGIxqf",
        "outputId": "24eae378-a707-4697-844b-b836bb0c1be7"
      },
      "execution_count": null,
      "outputs": [
        {
          "output_type": "execute_result",
          "data": {
            "text/plain": [
              "'Shiva-----'"
            ],
            "application/vnd.google.colaboratory.intrinsic+json": {
              "type": "string"
            }
          },
          "metadata": {},
          "execution_count": 15
        }
      ]
    },
    {
      "cell_type": "code",
      "source": [
        "# right justified\n",
        "str =\"My name is\"\n",
        "str.rjust(40,'*')"
      ],
      "metadata": {
        "colab": {
          "base_uri": "https://localhost:8080/",
          "height": 35
        },
        "id": "mvvAIe-tI36E",
        "outputId": "bd36b55c-4322-4b0d-856c-d83e8b2b856e"
      },
      "execution_count": null,
      "outputs": [
        {
          "output_type": "execute_result",
          "data": {
            "text/plain": [
              "'******************************My name is'"
            ],
            "application/vnd.google.colaboratory.intrinsic+json": {
              "type": "string"
            }
          },
          "metadata": {},
          "execution_count": 16
        }
      ]
    },
    {
      "cell_type": "code",
      "source": [
        "# center justified\n",
        "str =\"My name is\"\n",
        "str.center(40,'*')"
      ],
      "metadata": {
        "colab": {
          "base_uri": "https://localhost:8080/",
          "height": 35
        },
        "id": "ubEcU_fWI7EV",
        "outputId": "ee78e518-8e95-4616-a5f6-266d77303301"
      },
      "execution_count": null,
      "outputs": [
        {
          "output_type": "execute_result",
          "data": {
            "text/plain": [
              "'***************My name is***************'"
            ],
            "application/vnd.google.colaboratory.intrinsic+json": {
              "type": "string"
            }
          },
          "metadata": {},
          "execution_count": 17
        }
      ]
    },
    {
      "cell_type": "markdown",
      "source": [
        "Q10. What is the best way to remove whitespace characters from the start or end?"
      ],
      "metadata": {
        "id": "J8iS1lcVLBKZ"
      }
    },
    {
      "cell_type": "code",
      "source": [
        "str =\"  gfgfgfgfgfgfgf yuyuyuuyuy  \"\n",
        "str.lstrip()"
      ],
      "metadata": {
        "colab": {
          "base_uri": "https://localhost:8080/",
          "height": 35
        },
        "id": "5wAcFe_aLLpN",
        "outputId": "7f0444a9-d33a-46f3-d597-86849d0ce8ae"
      },
      "execution_count": null,
      "outputs": [
        {
          "output_type": "execute_result",
          "data": {
            "text/plain": [
              "'gfgfgfgfgfgfgf yuyuyuuyuy  '"
            ],
            "application/vnd.google.colaboratory.intrinsic+json": {
              "type": "string"
            }
          },
          "metadata": {},
          "execution_count": 18
        }
      ]
    },
    {
      "cell_type": "code",
      "source": [
        "str =\"  yytytytyyt mmamamam  \"\n",
        "str.rstrip()"
      ],
      "metadata": {
        "id": "lwiQPLZwLOFb",
        "outputId": "5f1599e8-a23e-4430-853d-edba60ef1267",
        "colab": {
          "base_uri": "https://localhost:8080/",
          "height": 35
        }
      },
      "execution_count": null,
      "outputs": [
        {
          "output_type": "execute_result",
          "data": {
            "text/plain": [
              "'  yytytytyyt mmamamam'"
            ],
            "application/vnd.google.colaboratory.intrinsic+json": {
              "type": "string"
            }
          },
          "metadata": {},
          "execution_count": 19
        }
      ]
    }
  ]
}