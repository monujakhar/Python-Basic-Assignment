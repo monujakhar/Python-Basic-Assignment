{
  "nbformat": 4,
  "nbformat_minor": 0,
  "metadata": {
    "colab": {
      "provenance": []
    },
    "kernelspec": {
      "name": "python3",
      "display_name": "Python 3"
    },
    "language_info": {
      "name": "python"
    }
  },
  "cells": [
    {
      "cell_type": "markdown",
      "source": [
        "Q1. Why are functions advantageous to have in your programs?"
      ],
      "metadata": {
        "id": "QJSV6IuIxpnL"
      }
    },
    {
      "cell_type": "markdown",
      "source": [
        "Ans - It makes a program more readable.This makes programs shorter, easier to read, and easier to update."
      ],
      "metadata": {
        "id": "m9pTHVt3xvJx"
      }
    },
    {
      "cell_type": "markdown",
      "source": [
        "Q2. When does the code in a function run: when it's specified or when it's called?"
      ],
      "metadata": {
        "id": "GlOM2RQdz3k1"
      }
    },
    {
      "cell_type": "markdown",
      "source": [
        "Ans - Code runs in the function when it's called."
      ],
      "metadata": {
        "id": "Iy9-c3at0AdA"
      }
    },
    {
      "cell_type": "markdown",
      "source": [
        "Q3. What statement creates a function?"
      ],
      "metadata": {
        "id": "Dj5k34cN0Zis"
      }
    },
    {
      "cell_type": "markdown",
      "source": [
        "Ans - The def statement define or create a function.\n",
        "\n",
        "example - \n",
        "def my_func()\n",
        "pass"
      ],
      "metadata": {
        "id": "p1Db_-600dyr"
      }
    },
    {
      "cell_type": "markdown",
      "source": [
        "Q4. What is the difference between a function and a function call?"
      ],
      "metadata": {
        "id": "v_-qJDIB0ug9"
      }
    },
    {
      "cell_type": "markdown",
      "source": [
        "Ans - A function consists of the def statement and the code in its def clause.\n",
        "\n",
        "A function call is what moves the program execution into the function, and the function call evaluates to the function's return value."
      ],
      "metadata": {
        "id": "aVx3zgIH1YWp"
      }
    },
    {
      "cell_type": "markdown",
      "source": [
        "Q5. How many global scopes are there in a Python program? How many local scopes?"
      ],
      "metadata": {
        "id": "kkqBS9pv1ddM"
      }
    },
    {
      "cell_type": "markdown",
      "source": [
        "Ans - There's only one global Python scope per program execution. This scope remains in existence until the program terminates , and a local scope is created whenever a function is called."
      ],
      "metadata": {
        "id": "niy4s7BJ1gXV"
      }
    },
    {
      "cell_type": "markdown",
      "source": [
        "Q6. What happens to variables in a local scope when the function call returns?"
      ],
      "metadata": {
        "id": "0ScSKMbL2z5N"
      }
    },
    {
      "cell_type": "markdown",
      "source": [
        "Ans - When function call returns local scope is destroyed."
      ],
      "metadata": {
        "id": "ftA0zyGd3HeI"
      }
    },
    {
      "cell_type": "markdown",
      "source": [
        "Q7. What is the concept of a return value? Is it possible to have a return value in an expression?"
      ],
      "metadata": {
        "id": "N94DzfYi3dtU"
      }
    },
    {
      "cell_type": "markdown",
      "source": [
        "Ans - A return value is the value that a function call evaluates to. Like any value, a return value can be used as part of an expression."
      ],
      "metadata": {
        "id": "pMNNgIpq-Z5t"
      }
    },
    {
      "cell_type": "markdown",
      "source": [
        "Q8. 8. If a function does not have a return statement, what is the return value of a call to that function?"
      ],
      "metadata": {
        "id": "wFSrQgqQ-1gc"
      }
    },
    {
      "cell_type": "markdown",
      "source": [
        "Ans - If the funtion does not have a return statement it will not return anything."
      ],
      "metadata": {
        "id": "9BkV5mh3-59l"
      }
    },
    {
      "cell_type": "markdown",
      "source": [
        "Q9. How do you make a function variable refer to the global variable?"
      ],
      "metadata": {
        "id": "wIxRjwdD_EF8"
      }
    },
    {
      "cell_type": "markdown",
      "source": [
        "Ans - To make function variable as a global variable you can use the global keyword to declare which variables are global."
      ],
      "metadata": {
        "id": "3CDWQwbO_Ia1"
      }
    },
    {
      "cell_type": "markdown",
      "source": [
        "Q10. What is the data type of None?"
      ],
      "metadata": {
        "id": "5B6lu_iI_g5f"
      }
    },
    {
      "cell_type": "markdown",
      "source": [
        "Ans - The data type of None is NoneType."
      ],
      "metadata": {
        "id": "V_ZETxSg_jni"
      }
    },
    {
      "cell_type": "markdown",
      "source": [
        "Q11. What does the sentence import areallyourpetsnamederic do?"
      ],
      "metadata": {
        "id": "3S7tNRWX_ryM"
      }
    },
    {
      "cell_type": "markdown",
      "source": [
        "Ans - That import statement imports a module named areallyourpetsnamederic. (But a module of this name doesnt exists in Python)"
      ],
      "metadata": {
        "id": "v38q3v-T_wKI"
      }
    },
    {
      "cell_type": "markdown",
      "source": [
        "Q12. If you had a bacon() feature in a spam module, what would you call it after importing spam?"
      ],
      "metadata": {
        "id": "hzSUnwOp_2lM"
      }
    },
    {
      "cell_type": "markdown",
      "source": [
        "import spam\n",
        "spam.bacon()"
      ],
      "metadata": {
        "id": "T8rIykAaCCgS"
      }
    },
    {
      "cell_type": "markdown",
      "source": [
        "Q13. What can you do to save a programme from crashing if it encounters an error?"
      ],
      "metadata": {
        "id": "Ab3ygHJ_AKoY"
      }
    },
    {
      "cell_type": "markdown",
      "source": [
        "Ans - We can use try except clause to save a program from crashing."
      ],
      "metadata": {
        "id": "IS9h6DgAAO5y"
      }
    },
    {
      "cell_type": "markdown",
      "source": [
        "Q14. What is the purpose of the try clause? What is the purpose of the except clause?"
      ],
      "metadata": {
        "id": "OhdDOB_sAg91"
      }
    },
    {
      "cell_type": "markdown",
      "source": [
        "Ans -Try and Except clause is used to handle the errors within our code . The try block is used to check some code for errors i.e the code inside the try block will execute when there is no error in the program. Whereas the code inside the except block will execute whenever the program encounters some error in the try block."
      ],
      "metadata": {
        "id": "3KrSPCGCAk0o"
      }
    }
  ]
}