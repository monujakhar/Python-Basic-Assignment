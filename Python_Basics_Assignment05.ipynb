{
  "nbformat": 4,
  "nbformat_minor": 0,
  "metadata": {
    "colab": {
      "provenance": []
    },
    "kernelspec": {
      "name": "python3",
      "display_name": "Python 3"
    },
    "language_info": {
      "name": "python"
    }
  },
  "cells": [
    {
      "cell_type": "markdown",
      "source": [
        "Q1. What does an empty dictionary's code look like?"
      ],
      "metadata": {
        "id": "MNRgdVC7DluF"
      }
    },
    {
      "cell_type": "code",
      "source": [
        "dict = {}\n",
        "type(dict)"
      ],
      "metadata": {
        "colab": {
          "base_uri": "https://localhost:8080/"
        },
        "id": "-3fdMeFKDuAD",
        "outputId": "4f65cb0e-9dbd-4611-b3d1-5ab36890bb8a"
      },
      "execution_count": 1,
      "outputs": [
        {
          "output_type": "execute_result",
          "data": {
            "text/plain": [
              "dict"
            ]
          },
          "metadata": {},
          "execution_count": 1
        }
      ]
    },
    {
      "cell_type": "markdown",
      "source": [
        "Q2. What is the value of a dictionary value with the key 'foo' and the value 42?"
      ],
      "metadata": {
        "id": "lWY9w0-ND00Z"
      }
    },
    {
      "cell_type": "code",
      "source": [
        "{'foo':42}"
      ],
      "metadata": {
        "colab": {
          "base_uri": "https://localhost:8080/"
        },
        "id": "U--slPr6D5fq",
        "outputId": "a214bd49-b4c2-45bf-a131-6a8f5d17380a"
      },
      "execution_count": 2,
      "outputs": [
        {
          "output_type": "execute_result",
          "data": {
            "text/plain": [
              "{'foo': 42}"
            ]
          },
          "metadata": {},
          "execution_count": 2
        }
      ]
    },
    {
      "cell_type": "markdown",
      "source": [
        "Q3. What is the most significant distinction between a dictionary and a list?"
      ],
      "metadata": {
        "id": "V_EuKYYWD-U5"
      }
    },
    {
      "cell_type": "markdown",
      "source": [
        "Most significant difference:\n",
        "\n",
        "List - items in list are Ordered\n",
        "\n",
        "Dictionary : items in dictionary are unordered"
      ],
      "metadata": {
        "id": "z5uG2PTbEDW5"
      }
    },
    {
      "cell_type": "markdown",
      "source": [
        "Q4. What happens if you try to access spam['foo'] if spam is {'bar': 100}?"
      ],
      "metadata": {
        "id": "ZRW558hTEHV8"
      }
    },
    {
      "cell_type": "code",
      "source": [
        "spam = {'bar':100}\n",
        "spam['foo']\n",
        "#This will give us key error"
      ],
      "metadata": {
        "colab": {
          "base_uri": "https://localhost:8080/",
          "height": 201
        },
        "id": "UjYAxsstD71K",
        "outputId": "2cbab1b6-5353-4a02-82c7-dabc74e88798"
      },
      "execution_count": 3,
      "outputs": [
        {
          "output_type": "error",
          "ename": "KeyError",
          "evalue": "ignored",
          "traceback": [
            "\u001b[0;31m---------------------------------------------------------------------------\u001b[0m",
            "\u001b[0;31mKeyError\u001b[0m                                  Traceback (most recent call last)",
            "\u001b[0;32m<ipython-input-3-3d68fc6babd3>\u001b[0m in \u001b[0;36m<cell line: 2>\u001b[0;34m()\u001b[0m\n\u001b[1;32m      1\u001b[0m \u001b[0mspam\u001b[0m \u001b[0;34m=\u001b[0m \u001b[0;34m{\u001b[0m\u001b[0;34m'bar'\u001b[0m\u001b[0;34m:\u001b[0m\u001b[0;36m100\u001b[0m\u001b[0;34m}\u001b[0m\u001b[0;34m\u001b[0m\u001b[0;34m\u001b[0m\u001b[0m\n\u001b[0;32m----> 2\u001b[0;31m \u001b[0mspam\u001b[0m\u001b[0;34m[\u001b[0m\u001b[0;34m'foo'\u001b[0m\u001b[0;34m]\u001b[0m\u001b[0;34m\u001b[0m\u001b[0;34m\u001b[0m\u001b[0m\n\u001b[0m\u001b[1;32m      3\u001b[0m \u001b[0;31m#This will give us key error\u001b[0m\u001b[0;34m\u001b[0m\u001b[0;34m\u001b[0m\u001b[0m\n",
            "\u001b[0;31mKeyError\u001b[0m: 'foo'"
          ]
        }
      ]
    },
    {
      "cell_type": "markdown",
      "source": [
        "Q5. If a dictionary is stored in spam, what is the difference between the expressions 'cat' in spam and 'cat' in spam.keys()?"
      ],
      "metadata": {
        "id": "5agad111Eekm"
      }
    },
    {
      "cell_type": "code",
      "source": [
        "spam ={'cat':100}\n",
        "'cat' in spam"
      ],
      "metadata": {
        "colab": {
          "base_uri": "https://localhost:8080/"
        },
        "id": "TPjDmKsMEoaX",
        "outputId": "3ea0034e-8fb1-480c-8f6b-69aaa2628f1e"
      },
      "execution_count": 5,
      "outputs": [
        {
          "output_type": "execute_result",
          "data": {
            "text/plain": [
              "True"
            ]
          },
          "metadata": {},
          "execution_count": 5
        }
      ]
    },
    {
      "cell_type": "code",
      "source": [
        "'cat' in spam.keys()\n",
        "#There is no differnce, both check if 'cat' is key of the dictionary and if its a key, returns True."
      ],
      "metadata": {
        "colab": {
          "base_uri": "https://localhost:8080/"
        },
        "id": "liS1-B_PE12G",
        "outputId": "f3cdd1e2-5277-4552-d5fa-9bc0143fc9e3"
      },
      "execution_count": 6,
      "outputs": [
        {
          "output_type": "execute_result",
          "data": {
            "text/plain": [
              "True"
            ]
          },
          "metadata": {},
          "execution_count": 6
        }
      ]
    },
    {
      "cell_type": "markdown",
      "source": [
        "Q6. If a dictionary is stored in spam, what is the difference between the expressions 'cat' in spam and 'cat' in spam.values()?"
      ],
      "metadata": {
        "id": "2ntYDUpEEvDF"
      }
    },
    {
      "cell_type": "code",
      "source": [
        "spam ={'cat':100}\n",
        "'cat' in spam"
      ],
      "metadata": {
        "colab": {
          "base_uri": "https://localhost:8080/"
        },
        "id": "Bb0j6654E8bj",
        "outputId": "3bb38d57-7113-4204-b6a9-41ea5e32ebf3"
      },
      "execution_count": 7,
      "outputs": [
        {
          "output_type": "execute_result",
          "data": {
            "text/plain": [
              "True"
            ]
          },
          "metadata": {},
          "execution_count": 7
        }
      ]
    },
    {
      "cell_type": "code",
      "source": [
        "spam ={'cat':100}\n",
        "'cat' in spam.values()\n",
        "\n",
        "#'cat' in spam checks whether there is a 'cat' key in the dictionary\n",
        "#'cat' in spam.values() checks whether there is a value 'cat' for one of the keys in spam."
      ],
      "metadata": {
        "colab": {
          "base_uri": "https://localhost:8080/"
        },
        "id": "7-uoemskE_Xq",
        "outputId": "20a18c13-1d39-42a4-fdb3-79e2eb376ae8"
      },
      "execution_count": 8,
      "outputs": [
        {
          "output_type": "execute_result",
          "data": {
            "text/plain": [
              "False"
            ]
          },
          "metadata": {},
          "execution_count": 8
        }
      ]
    },
    {
      "cell_type": "markdown",
      "source": [
        "Q7. What is a shortcut for the following code?\n"
      ],
      "metadata": {
        "id": "I4E6By4cFESi"
      }
    },
    {
      "cell_type": "code",
      "source": [
        "spam ={'cat':100}\n",
        "spam.setdefault('color','black')\n",
        "spam"
      ],
      "metadata": {
        "colab": {
          "base_uri": "https://localhost:8080/"
        },
        "id": "ndzSiYf6FRLL",
        "outputId": "4b1ef3a6-6afc-4823-b0d9-9ceb9e81bd2a"
      },
      "execution_count": 9,
      "outputs": [
        {
          "output_type": "execute_result",
          "data": {
            "text/plain": [
              "{'cat': 100, 'color': 'black'}"
            ]
          },
          "metadata": {},
          "execution_count": 9
        }
      ]
    },
    {
      "cell_type": "markdown",
      "source": [
        "Q8. How do you 'pretty print' dictionary values using which module and function?"
      ],
      "metadata": {
        "id": "SJSsjSpcFS6z"
      }
    },
    {
      "cell_type": "code",
      "source": [
        "import pprint\n",
        "dct = [ {'Name': 'Shiva', 'Age': '23', 'Country': 'India'},\n",
        "  {'Name': 'Anna', 'Age': '44', 'Country': 'China'},\n",
        "  {'Name': 'Joe', 'Age': '29', 'Country': 'UK'},\n",
        "  {'Name': 'Chumlee', 'Age': '35', 'Country': 'USA'}\n",
        "]"
      ],
      "metadata": {
        "id": "G89d1sPZFXIn"
      },
      "execution_count": 12,
      "outputs": []
    },
    {
      "cell_type": "code",
      "source": [
        "# printing with pprint()\n",
        "pprint.pprint(dct)"
      ],
      "metadata": {
        "colab": {
          "base_uri": "https://localhost:8080/"
        },
        "id": "D2k5dJ7uFrSP",
        "outputId": "bd9f096d-28bd-4f14-b64e-114e8fd55934"
      },
      "execution_count": 13,
      "outputs": [
        {
          "output_type": "stream",
          "name": "stdout",
          "text": [
            "[{'Age': '23', 'Country': 'India', 'Name': 'Shiva'},\n",
            " {'Age': '44', 'Country': 'China', 'Name': 'Anna'},\n",
            " {'Age': '29', 'Country': 'UK', 'Name': 'Joe'},\n",
            " {'Age': '35', 'Country': 'USA', 'Name': 'Chumlee'}]\n"
          ]
        }
      ]
    },
    {
      "cell_type": "code",
      "source": [
        "#Printing with print()\n",
        "print(dct)"
      ],
      "metadata": {
        "colab": {
          "base_uri": "https://localhost:8080/"
        },
        "id": "QgAPw01ZFuCz",
        "outputId": "af33cdff-8e1e-4b66-90b2-4b3a367a3364"
      },
      "execution_count": 16,
      "outputs": [
        {
          "output_type": "stream",
          "name": "stdout",
          "text": [
            "[{'Name': 'Shiva', 'Age': '23', 'Country': 'India'}, {'Name': 'Anna', 'Age': '44', 'Country': 'China'}, {'Name': 'Joe', 'Age': '29', 'Country': 'UK'}, {'Name': 'Chumlee', 'Age': '35', 'Country': 'USA'}]\n"
          ]
        }
      ]
    }
  ]
}